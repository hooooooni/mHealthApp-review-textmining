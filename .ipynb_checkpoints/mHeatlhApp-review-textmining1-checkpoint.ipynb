{
 "cells": [
  {
   "cell_type": "markdown",
   "metadata": {},
   "source": [
    "## 건강관리 앱 리뷰 텍스트마이닝 기반 디자인 전략 연구1\n",
    "### LDA 토픽 모델링과 동시출현 단어 네트워크 분석 기법을 중심으로\n",
    "#### 👨‍💻 Author: Gyeongbin Park(a.k.a., Tony Park)\n",
    "  - 📬 Contact: dev.gbpark@gmail.com\n",
    "\n",
    "- 👨‍🔬 분석 방법론\n",
    "  - LDA Topic Modeling\n",
    "  - Word Co-occurrence Network Analysis(TBA)\n",
    "\n",
    "- 🛠 개발환경\n",
    "  - Python 3.8\n",
    "    - KoNLPy Mecab\n",
    "  - 가상환경: pipenv\n",
    "  - Gephi(네트워크 시각화)\n",
    "\n",
    "- 🗂 데이터셋\n",
    "  - 국내 구글 플레이 스토어 내 건강관리 앱 리뷰 54만 건\n",
    "\n",
    "- 📚 참고\n",
    "  - Blog: https://heytech.tistory.com/\n",
    "  - Github: https://github.com/park-gb"
   ]
  },
  {
   "cell_type": "markdown",
   "metadata": {},
   "source": [
    "# 패키지 설치"
   ]
  },
  {
   "cell_type": "markdown",
   "metadata": {},
   "source": [
    "1) 가상환경\n",
    "- 가상환경 pipenv 사용 시 아래 명령어를 통해 모든 필요 패키지 설치 가능\n",
    "    - pipenv install\n",
    "\n",
    "2) KoNLPy Mecab 설치방법\n",
    "- 명령어\n",
    "    - bash <(curl -s https://raw.githubusercontent.com/konlpy/konlpy/master/scripts/mecab.sh)\n",
    "- 설치 오류 시 해결방법: https://heytech.tistory.com/395?category=453616"
   ]
  },
  {
   "cell_type": "markdown",
   "metadata": {},
   "source": [
    "# 패키지 import"
   ]
  },
  {
   "cell_type": "code",
   "execution_count": 79,
   "metadata": {
    "scrolled": true
   },
   "outputs": [],
   "source": [
    "import pandas as pd\n",
    "# 경고 메시지 무시\n",
    "import warnings\n",
    "warnings.filterwarnings(action='ignore')\n",
    "# 한국어 형태소 분석기 중 성능이 가장 우수한 Mecab 사용\n",
    "from konlpy.tag import Mecab\n",
    "from tqdm import tqdm # 작업 프로세스 시각화\n",
    "import re # 문자열 처리를 위한 정규표현식 패키지\n",
    "from gensim import corpora # 단어 빈도수 계산 패키지\n",
    "import gensim # LDA 모델 활용 목적\n",
    "import pyLDAvis.gensim_models # LDA 시각화용 패키지"
   ]
  },
  {
   "cell_type": "code",
   "execution_count": 86,
   "metadata": {},
   "outputs": [],
   "source": [
    "mecab = Mecab()"
   ]
  },
  {
   "cell_type": "markdown",
   "metadata": {},
   "source": [
    "# 데이터셋 load"
   ]
  },
  {
   "cell_type": "code",
   "execution_count": 3,
   "metadata": {
    "scrolled": true
   },
   "outputs": [
    {
     "data": {
      "text/html": [
       "<div>\n",
       "<style scoped>\n",
       "    .dataframe tbody tr th:only-of-type {\n",
       "        vertical-align: middle;\n",
       "    }\n",
       "\n",
       "    .dataframe tbody tr th {\n",
       "        vertical-align: top;\n",
       "    }\n",
       "\n",
       "    .dataframe thead th {\n",
       "        text-align: right;\n",
       "    }\n",
       "</style>\n",
       "<table border=\"1\" class=\"dataframe\">\n",
       "  <thead>\n",
       "    <tr style=\"text-align: right;\">\n",
       "      <th></th>\n",
       "      <th>app</th>\n",
       "      <th>review</th>\n",
       "      <th>rating</th>\n",
       "    </tr>\n",
       "  </thead>\n",
       "  <tbody>\n",
       "    <tr>\n",
       "      <th>0</th>\n",
       "      <td>다리 근육 운동 – 4주 프로그램</td>\n",
       "      <td>다른 P4P어플과 연동 하면 기존에 있던 스케쥴이 싹 사라짐</td>\n",
       "      <td>1</td>\n",
       "    </tr>\n",
       "    <tr>\n",
       "      <th>1</th>\n",
       "      <td>다리 근육 운동 – 4주 프로그램</td>\n",
       "      <td>굿</td>\n",
       "      <td>5</td>\n",
       "    </tr>\n",
       "    <tr>\n",
       "      <th>2</th>\n",
       "      <td>다리 근육 운동 – 4주 프로그램</td>\n",
       "      <td>최고입니디</td>\n",
       "      <td>5</td>\n",
       "    </tr>\n",
       "    <tr>\n",
       "      <th>3</th>\n",
       "      <td>다리 근육 운동 – 4주 프로그램</td>\n",
       "      <td>아무곳에서나 보고 억지로라도 운동할수 있어서 너무 좋습니다. 감사히 잘 쓸께요.😂</td>\n",
       "      <td>5</td>\n",
       "    </tr>\n",
       "    <tr>\n",
       "      <th>4</th>\n",
       "      <td>다리 근육 운동 – 4주 프로그램</td>\n",
       "      <td>ᆞ</td>\n",
       "      <td>5</td>\n",
       "    </tr>\n",
       "  </tbody>\n",
       "</table>\n",
       "</div>"
      ],
      "text/plain": [
       "                  app                                         review  rating\n",
       "0  다리 근육 운동 – 4주 프로그램              다른 P4P어플과 연동 하면 기존에 있던 스케쥴이 싹 사라짐       1\n",
       "1  다리 근육 운동 – 4주 프로그램                                              굿       5\n",
       "2  다리 근육 운동 – 4주 프로그램                                          최고입니디       5\n",
       "3  다리 근육 운동 – 4주 프로그램  아무곳에서나 보고 억지로라도 운동할수 있어서 너무 좋습니다. 감사히 잘 쓸께요.😂       5\n",
       "4  다리 근육 운동 – 4주 프로그램                                              ᆞ       5"
      ]
     },
     "execution_count": 3,
     "metadata": {},
     "output_type": "execute_result"
    }
   ],
   "source": [
    "dataset_raw = pd.read_excel('./data/dataset_raw.xlsx')\n",
    "dataset_raw.head()"
   ]
  },
  {
   "cell_type": "markdown",
   "metadata": {},
   "source": [
    "# 데이터 탐색\n",
    "- 데이터셋에서 전반적으로 결측치 존재여부, 데이터 타입, 데이터 개수를 확인합니다."
   ]
  },
  {
   "cell_type": "code",
   "execution_count": 4,
   "metadata": {},
   "outputs": [
    {
     "name": "stdout",
     "output_type": "stream",
     "text": [
      "<class 'pandas.core.frame.DataFrame'>\n",
      "RangeIndex: 540076 entries, 0 to 540075\n",
      "Data columns (total 3 columns):\n",
      " #   Column  Non-Null Count   Dtype \n",
      "---  ------  --------------   ----- \n",
      " 0   app     540076 non-null  object\n",
      " 1   review  540074 non-null  object\n",
      " 2   rating  540076 non-null  int64 \n",
      "dtypes: int64(1), object(2)\n",
      "memory usage: 12.4+ MB\n"
     ]
    }
   ],
   "source": [
    "dataset_raw.info() "
   ]
  },
  {
   "cell_type": "markdown",
   "metadata": {},
   "source": [
    "# 데이터 전처리"
   ]
  },
  {
   "cell_type": "markdown",
   "metadata": {},
   "source": [
    "## 결측치 확인"
   ]
  },
  {
   "cell_type": "code",
   "execution_count": 5,
   "metadata": {},
   "outputs": [
    {
     "data": {
      "text/plain": [
       "app       0\n",
       "review    2\n",
       "rating    0\n",
       "dtype: int64"
      ]
     },
     "execution_count": 5,
     "metadata": {},
     "output_type": "execute_result"
    }
   ],
   "source": [
    "dataset_raw.isnull().sum()"
   ]
  },
  {
   "cell_type": "markdown",
   "metadata": {},
   "source": [
    "## 결측치 제거"
   ]
  },
  {
   "cell_type": "code",
   "execution_count": 6,
   "metadata": {},
   "outputs": [
    {
     "data": {
      "text/plain": [
       "app       0\n",
       "review    0\n",
       "rating    0\n",
       "dtype: int64"
      ]
     },
     "execution_count": 6,
     "metadata": {},
     "output_type": "execute_result"
    }
   ],
   "source": [
    "# axis = 0: 결측치 포함한 모든 행 제거\n",
    "dataset = dataset_raw.dropna(axis = 0)\n",
    "dataset.isnull().sum()"
   ]
  },
  {
   "cell_type": "markdown",
   "metadata": {},
   "source": [
    "## 전처리용 딕셔너리 Load"
   ]
  },
  {
   "cell_type": "markdown",
   "metadata": {},
   "source": [
    "### 불용어 사전 리스트\n",
    "- 사용자의 서비스 경험과는 무관하지만 빈출되는 단어인 불용어는 미리 제거하는 작업이 필요합니다."
   ]
  },
  {
   "cell_type": "code",
   "execution_count": 58,
   "metadata": {},
   "outputs": [
    {
     "data": {
      "text/html": [
       "<div>\n",
       "<style scoped>\n",
       "    .dataframe tbody tr th:only-of-type {\n",
       "        vertical-align: middle;\n",
       "    }\n",
       "\n",
       "    .dataframe tbody tr th {\n",
       "        vertical-align: top;\n",
       "    }\n",
       "\n",
       "    .dataframe thead th {\n",
       "        text-align: right;\n",
       "    }\n",
       "</style>\n",
       "<table border=\"1\" class=\"dataframe\">\n",
       "  <thead>\n",
       "    <tr style=\"text-align: right;\">\n",
       "      <th></th>\n",
       "      <th>stopword</th>\n",
       "    </tr>\n",
       "  </thead>\n",
       "  <tbody>\n",
       "    <tr>\n",
       "      <th>0</th>\n",
       "      <td>가까스로</td>\n",
       "    </tr>\n",
       "    <tr>\n",
       "      <th>1</th>\n",
       "      <td>가량</td>\n",
       "    </tr>\n",
       "    <tr>\n",
       "      <th>2</th>\n",
       "      <td>가령</td>\n",
       "    </tr>\n",
       "    <tr>\n",
       "      <th>3</th>\n",
       "      <td>가민</td>\n",
       "    </tr>\n",
       "    <tr>\n",
       "      <th>4</th>\n",
       "      <td>가민커넥트</td>\n",
       "    </tr>\n",
       "  </tbody>\n",
       "</table>\n",
       "</div>"
      ],
      "text/plain": [
       "  stopword\n",
       "0     가까스로\n",
       "1       가량\n",
       "2       가령\n",
       "3       가민\n",
       "4    가민커넥트"
      ]
     },
     "execution_count": 58,
     "metadata": {},
     "output_type": "execute_result"
    }
   ],
   "source": [
    "stopword_list = pd.read_excel('./data/stopword_list.xlsx')\n",
    "stopword_list.head()"
   ]
  },
  {
   "cell_type": "markdown",
   "metadata": {},
   "source": [
    "### 데이터 치환 리스트\n",
    "- 같은 의미로 사용된 여러 데이터를 특정 단어로 통일화하기 위한 데이터셋입니다.\n",
    "- 본 프로젝트에서는 특정 단어의 빈출여부가 핵심이기 때문에 같은 의미의 단어를 통일화하는 게 중요합니다."
   ]
  },
  {
   "cell_type": "code",
   "execution_count": 59,
   "metadata": {},
   "outputs": [
    {
     "data": {
      "text/html": [
       "<div>\n",
       "<style scoped>\n",
       "    .dataframe tbody tr th:only-of-type {\n",
       "        vertical-align: middle;\n",
       "    }\n",
       "\n",
       "    .dataframe tbody tr th {\n",
       "        vertical-align: top;\n",
       "    }\n",
       "\n",
       "    .dataframe thead th {\n",
       "        text-align: right;\n",
       "    }\n",
       "</style>\n",
       "<table border=\"1\" class=\"dataframe\">\n",
       "  <thead>\n",
       "    <tr style=\"text-align: right;\">\n",
       "      <th></th>\n",
       "      <th>before_replacement</th>\n",
       "      <th>after_replacement</th>\n",
       "    </tr>\n",
       "  </thead>\n",
       "  <tbody>\n",
       "    <tr>\n",
       "      <th>0</th>\n",
       "      <td>S헬스</td>\n",
       "      <td>삼성헬스</td>\n",
       "    </tr>\n",
       "    <tr>\n",
       "      <th>1</th>\n",
       "      <td>LG폰</td>\n",
       "      <td>스마트폰</td>\n",
       "    </tr>\n",
       "    <tr>\n",
       "      <th>2</th>\n",
       "      <td>LG V10</td>\n",
       "      <td>스마트폰</td>\n",
       "    </tr>\n",
       "    <tr>\n",
       "      <th>3</th>\n",
       "      <td>G7</td>\n",
       "      <td>스마트폰</td>\n",
       "    </tr>\n",
       "    <tr>\n",
       "      <th>4</th>\n",
       "      <td>GX</td>\n",
       "      <td>그룹운동</td>\n",
       "    </tr>\n",
       "  </tbody>\n",
       "</table>\n",
       "</div>"
      ],
      "text/plain": [
       "  before_replacement after_replacement\n",
       "0                S헬스              삼성헬스\n",
       "1                LG폰              스마트폰\n",
       "2             LG V10              스마트폰\n",
       "3                 G7              스마트폰\n",
       "4                 GX              그룹운동"
      ]
     },
     "execution_count": 59,
     "metadata": {},
     "output_type": "execute_result"
    }
   ],
   "source": [
    "replace_list = pd.read_excel('./data/replace_list.xlsx')\n",
    "replace_list.head()"
   ]
  },
  {
   "cell_type": "markdown",
   "metadata": {},
   "source": [
    "### 한 글자 키워드 리스트\n",
    "- 일반적으로 토큰이 1글자인 경우는 대부분 불용어에 해당하기 때문에 제거합니다.\n",
    "- 단, 프로젝트 성격에 따라 1글자의 단어가 핵심 키워드가 될 수 있습니다.\n",
    "- 아래의 리스트는 이처럼 키워드로 생각되는 1글자 단어를 리스트업 하였습니다."
   ]
  },
  {
   "cell_type": "code",
   "execution_count": 89,
   "metadata": {},
   "outputs": [
    {
     "data": {
      "text/html": [
       "<div>\n",
       "<style scoped>\n",
       "    .dataframe tbody tr th:only-of-type {\n",
       "        vertical-align: middle;\n",
       "    }\n",
       "\n",
       "    .dataframe tbody tr th {\n",
       "        vertical-align: top;\n",
       "    }\n",
       "\n",
       "    .dataframe thead th {\n",
       "        text-align: right;\n",
       "    }\n",
       "</style>\n",
       "<table border=\"1\" class=\"dataframe\">\n",
       "  <thead>\n",
       "    <tr style=\"text-align: right;\">\n",
       "      <th></th>\n",
       "      <th>one_char_keyword</th>\n",
       "    </tr>\n",
       "  </thead>\n",
       "  <tbody>\n",
       "    <tr>\n",
       "      <th>0</th>\n",
       "      <td>컵</td>\n",
       "    </tr>\n",
       "    <tr>\n",
       "      <th>1</th>\n",
       "      <td>방</td>\n",
       "    </tr>\n",
       "    <tr>\n",
       "      <th>2</th>\n",
       "      <td>물</td>\n",
       "    </tr>\n",
       "    <tr>\n",
       "      <th>3</th>\n",
       "      <td>돈</td>\n",
       "    </tr>\n",
       "    <tr>\n",
       "      <th>4</th>\n",
       "      <td>꿈</td>\n",
       "    </tr>\n",
       "  </tbody>\n",
       "</table>\n",
       "</div>"
      ],
      "text/plain": [
       "  one_char_keyword\n",
       "0                컵\n",
       "1                방\n",
       "2                물\n",
       "3                돈\n",
       "4                꿈"
      ]
     },
     "execution_count": 89,
     "metadata": {},
     "output_type": "execute_result"
    }
   ],
   "source": [
    "one_char_keyword = pd.read_excel('./data/one_char_list.xlsx')\n",
    "one_char_keyword.head()"
   ]
  },
  {
   "cell_type": "markdown",
   "metadata": {},
   "source": [
    "## 데이터 치환"
   ]
  },
  {
   "cell_type": "code",
   "execution_count": 73,
   "metadata": {},
   "outputs": [],
   "source": [
    "# 같은 의미로 사용된 데이터를 하나의 단어로 통일화하는 함수\n",
    "def replace_word(review):\n",
    "    for i in range(len(replace_list['before_replacement'])):\n",
    "        try:\n",
    "            # 치환할 단어가 있는 경우에만 데이터 치환 수행\n",
    "            if replace_list['before_replacement'][i] in review:\n",
    "                review = review.replace(replace_list['before_replacement'][i], replace_list['after_replacement'][i])\n",
    "        except Exception as e:\n",
    "            print(f\"Error 발생 / 에러명: {e}\")\n",
    "    return review"
   ]
  },
  {
   "cell_type": "code",
   "execution_count": 74,
   "metadata": {},
   "outputs": [
    {
     "name": "stderr",
     "output_type": "stream",
     "text": [
      "100%|██████████████████████████████████| 540074/540074 [16:57<00:00, 530.67it/s]\n"
     ]
    },
    {
     "data": {
      "text/html": [
       "<div>\n",
       "<style scoped>\n",
       "    .dataframe tbody tr th:only-of-type {\n",
       "        vertical-align: middle;\n",
       "    }\n",
       "\n",
       "    .dataframe tbody tr th {\n",
       "        vertical-align: top;\n",
       "    }\n",
       "\n",
       "    .dataframe thead th {\n",
       "        text-align: right;\n",
       "    }\n",
       "</style>\n",
       "<table border=\"1\" class=\"dataframe\">\n",
       "  <thead>\n",
       "    <tr style=\"text-align: right;\">\n",
       "      <th></th>\n",
       "      <th>app</th>\n",
       "      <th>review</th>\n",
       "      <th>rating</th>\n",
       "      <th>review_replaced</th>\n",
       "    </tr>\n",
       "  </thead>\n",
       "  <tbody>\n",
       "    <tr>\n",
       "      <th>0</th>\n",
       "      <td>다리 근육 운동 – 4주 프로그램</td>\n",
       "      <td>다른 P4P어플과 연동 하면 기존에 있던 스케쥴이 싹 사라짐</td>\n",
       "      <td>1</td>\n",
       "      <td>다른 P4P어플과 연동 하면 기존에 있던 스케줄이 싹 사라짐</td>\n",
       "    </tr>\n",
       "    <tr>\n",
       "      <th>1</th>\n",
       "      <td>다리 근육 운동 – 4주 프로그램</td>\n",
       "      <td>굿</td>\n",
       "      <td>5</td>\n",
       "      <td>굿</td>\n",
       "    </tr>\n",
       "    <tr>\n",
       "      <th>2</th>\n",
       "      <td>다리 근육 운동 – 4주 프로그램</td>\n",
       "      <td>최고입니디</td>\n",
       "      <td>5</td>\n",
       "      <td>최고입니디</td>\n",
       "    </tr>\n",
       "    <tr>\n",
       "      <th>3</th>\n",
       "      <td>다리 근육 운동 – 4주 프로그램</td>\n",
       "      <td>아무곳에서나 보고 억지로라도 운동할수 있어서 너무 좋습니다. 감사히 잘 쓸께요.😂</td>\n",
       "      <td>5</td>\n",
       "      <td>아무곳에서나 확인 억지로라도 운동할수 있어서 너무 좋습니다. 감사히 잘 쓸께요.😂</td>\n",
       "    </tr>\n",
       "    <tr>\n",
       "      <th>4</th>\n",
       "      <td>다리 근육 운동 – 4주 프로그램</td>\n",
       "      <td>ᆞ</td>\n",
       "      <td>5</td>\n",
       "      <td>ᆞ</td>\n",
       "    </tr>\n",
       "  </tbody>\n",
       "</table>\n",
       "</div>"
      ],
      "text/plain": [
       "                  app                                         review  rating  \\\n",
       "0  다리 근육 운동 – 4주 프로그램              다른 P4P어플과 연동 하면 기존에 있던 스케쥴이 싹 사라짐       1   \n",
       "1  다리 근육 운동 – 4주 프로그램                                              굿       5   \n",
       "2  다리 근육 운동 – 4주 프로그램                                          최고입니디       5   \n",
       "3  다리 근육 운동 – 4주 프로그램  아무곳에서나 보고 억지로라도 운동할수 있어서 너무 좋습니다. 감사히 잘 쓸께요.😂       5   \n",
       "4  다리 근육 운동 – 4주 프로그램                                              ᆞ       5   \n",
       "\n",
       "                                 review_replaced  \n",
       "0              다른 P4P어플과 연동 하면 기존에 있던 스케줄이 싹 사라짐  \n",
       "1                                              굿  \n",
       "2                                          최고입니디  \n",
       "3  아무곳에서나 확인 억지로라도 운동할수 있어서 너무 좋습니다. 감사히 잘 쓸께요.😂  \n",
       "4                                              ᆞ  "
      ]
     },
     "execution_count": 74,
     "metadata": {},
     "output_type": "execute_result"
    }
   ],
   "source": [
    "dataset['review_replaced'] = ''\n",
    "review_replaced_list = []\n",
    "for review in tqdm(dataset['review']):\n",
    "    review_replaced = replace_word(str(review)) # 문자열 데이터 변환\n",
    "    replaced_review_list.append(review_replaced)\n",
    "dataset['review_replaced'] = review_replaced_list\n",
    "dataset.head()"
   ]
  },
  {
   "cell_type": "markdown",
   "metadata": {},
   "source": [
    "## 한국어 외 텍스트 제거"
   ]
  },
  {
   "cell_type": "code",
   "execution_count": 84,
   "metadata": {},
   "outputs": [
    {
     "data": {
      "text/plain": [
       "['다른 어플과 연동 하면 기존에 있던 스케줄이 싹 사라짐',\n",
       " '굿',\n",
       " '최고입니디',\n",
       " '아무곳에서나 확인 억지로라도 운동할수 있어서 너무 좋습니다 감사히 잘 쓸께요',\n",
       " '']"
      ]
     },
     "execution_count": 84,
     "metadata": {},
     "output_type": "execute_result"
    }
   ],
   "source": [
    "review_removed = list(map(lambda review: re.sub('[^가-힣 ]', '', review), dataset['review_replaced']))\n",
    "review_removed[:5]"
   ]
  },
  {
   "cell_type": "markdown",
   "metadata": {},
   "source": [
    "## 토큰화"
   ]
  },
  {
   "cell_type": "code",
   "execution_count": 88,
   "metadata": {},
   "outputs": [
    {
     "data": {
      "text/plain": [
       "[['플', '연동', '기존', '스케줄'], ['굿'], ['최고', '디'], ['곳', '확인', '운동', '수'], []]"
      ]
     },
     "execution_count": 88,
     "metadata": {},
     "output_type": "execute_result"
    }
   ],
   "source": [
    "review_tokenized = list(map(lambda review: mecab.nouns(review), review_removed))\n",
    "review_tokenized[:5]"
   ]
  },
  {
   "cell_type": "markdown",
   "metadata": {},
   "source": [
    "## 불용어 제거"
   ]
  },
  {
   "cell_type": "code",
   "execution_count": 90,
   "metadata": {},
   "outputs": [],
   "source": [
    "def remove_stopword(tokens):\n",
    "    review_removed_stopword = []\n",
    "    for token in tokens:\n",
    "        if 1 < len(token):\n",
    "            if token not in stopword_list:\n",
    "                review_removed_stopword.append(token)\n",
    "        else:\n",
    "            if token in one_char_keyword:\n",
    "                review_removed_stopword.append(token)\n",
    "    return review_removed_stopword"
   ]
  },
  {
   "cell_type": "code",
   "execution_count": 114,
   "metadata": {},
   "outputs": [
    {
     "data": {
      "text/plain": [
       "[['연동', '기존', '스케줄'],\n",
       " ['확인', '운동'],\n",
       " ['완전', '유용', '사용', '효과', '최고', '감사', '추천'],\n",
       " ['다리전', '운동', '효과', '운동', '도움'],\n",
       " ['남자', '여자', '구분', '효과', '실용']]"
      ]
     },
     "execution_count": 114,
     "metadata": {},
     "output_type": "execute_result"
    }
   ],
   "source": [
    "review_removed_stopword = list(map(lambda tokens : remove_stopword(tokens), review_tokenized))\n",
    "review_prep = []\n",
    "for tokens in review_removed_stopword:\n",
    "    if 1 < len(tokens):\n",
    "        review_prep.append(tokens)\n",
    "review_prep[:5]"
   ]
  },
  {
   "cell_type": "markdown",
   "metadata": {},
   "source": [
    "# LDA 토픽 모델링"
   ]
  },
  {
   "cell_type": "markdown",
   "metadata": {},
   "source": [
    "## 단어 인코딩 및 빈도수 계산\n",
    "- (단어 인덱스, 빈도수) 형태 만들기"
   ]
  },
  {
   "cell_type": "code",
   "execution_count": 118,
   "metadata": {},
   "outputs": [
    {
     "name": "stderr",
     "output_type": "stream",
     "text": [
      "  0%|                                                | 0/540074 [24:44<?, ?it/s]\n"
     ]
    }
   ],
   "source": [
    "dictionary = corpora.Dictionary(review_prep)\n",
    "corpus = [dictionary.doc2bow(review) for review in review_prep]"
   ]
  },
  {
   "cell_type": "markdown",
   "metadata": {},
   "source": [
    "## LDA 모델 훈련"
   ]
  },
  {
   "cell_type": "markdown",
   "metadata": {},
   "source": [
    "### 하이퍼파라미터 튜닝"
   ]
  },
  {
   "cell_type": "code",
   "execution_count": 120,
   "metadata": {},
   "outputs": [],
   "source": [
    "NUM_TOPICS = 10 # 토픽 개수는 하이퍼파라미터\n",
    "# passes: 딥러닝에서 Epoch와 같은 개념으로, 전체 corpus로 모델 학습 횟수 결정\n",
    "PASSES = 15 "
   ]
  },
  {
   "cell_type": "code",
   "execution_count": 121,
   "metadata": {},
   "outputs": [],
   "source": [
    "# LDA 모델 학습\n",
    "model = gensim.models.ldamodel.LdaModel(corpus, \n",
    "                                        num_topics = NUM_TOPICS, \n",
    "                                        id2word = dictionary, \n",
    "                                        passes = PASSES)"
   ]
  },
  {
   "cell_type": "markdown",
   "metadata": {},
   "source": [
    "# LDA 토픽 모델링 결과 시각화"
   ]
  },
  {
   "cell_type": "code",
   "execution_count": 122,
   "metadata": {},
   "outputs": [
    {
     "data": {
      "text/html": [
       "\n",
       "<link rel=\"stylesheet\" type=\"text/css\" href=\"https://cdn.jsdelivr.net/gh/bmabey/pyLDAvis@3.3.1/pyLDAvis/js/ldavis.v1.0.0.css\">\n",
       "\n",
       "\n",
       "<div id=\"ldavis_el2411140370798317232377082911\"></div>\n",
       "<script type=\"text/javascript\">\n",
       "\n",
       "var ldavis_el2411140370798317232377082911_data = {\"mdsDat\": {\"x\": [-0.13661007492992525, 0.15840729268650763, 0.22024827039509037, 0.0365987891631463, -0.24631655455282345, -0.14220106197107832, 0.22705566785796336, -0.20573889696772169, 0.09447367068843687, -0.005917102369595539], \"y\": [0.12160667890276744, 0.10340323821775281, 0.03412598869118348, -0.06679695018719037, -0.09240008155359936, -0.1497162151721154, 0.06026615163230752, 0.14414844437056323, -0.3369825663590385, 0.1823453114573695], \"topics\": [1, 2, 3, 4, 5, 6, 7, 8, 9, 10], \"cluster\": [1, 1, 1, 1, 1, 1, 1, 1, 1, 1], \"Freq\": [12.334607288783486, 11.100661478894695, 10.806964310438689, 10.644646711395351, 10.443070905981667, 9.797533878025622, 9.550863865526912, 8.79709583100343, 8.7037651188891, 7.820790611061036]}, \"tinfo\": {\"Term\": [\"\\ud3ec\\uc778\\ud2b8\", \"\\uc560\\ud50c\\ub9ac\\ucf00\\uc774\\uc158\", \"\\uc6b4\\ub3d9\", \"\\uc801\\ub9bd\", \"\\uac78\\uc74c\", \"\\uc774\\uac70\", \"\\ubb3c\\uac74\", \"\\uc5c5\\ub370\\uc774\\ud2b8\", \"\\uad11\\uace0\", \"\\uc2dc\\uac04\", \"\\uc0ac\\uc6a9\", \"\\uc6cc\\ud06c\", \"\\ud558\\ub8e8\", \"\\uc0c1\\uc790\", \"\\ucd5c\\uace0\", \"\\ucd94\\ucc9c\", \"\\uac10\\uc0ac\", \"\\uac00\\uaca9\", \"\\uae30\\ub2a5\", \"\\ud654\\uba74\", \"\\uc0c1\\ud488\\uad8c\", \"\\uc624\\ub958\", \"\\uce5c\\uad6c\", \"\\ub9cc\\ubcf4\\uae30\", \"\\ubd88\\ud3b8\", \"\\ucf54\\uc778\", \"\\ucd94\\uac00\", \"\\ud558\\ub098\", \"\\ud68c\\uc6d0\", \"\\ucc98\\uc74c\", \"\\uc2dc\\uac04\", \"\\uae30\\ub2a5\", \"\\ucd94\\uac00\", \"\\ud0c0\\uc784\", \"\\uc7ac\\ubbf8\", \"\\uadf8\\uac70\", \"\\ubc30\\ud130\\ub9ac\", \"\\uccb4\\ud06c\", \"\\uc815\\ubcf4\", \"\\uce7c\\ub85c\\ub9ac\", \"\\ud45c\\uc2dc\", \"\\uc0c1\\ud0dc\", \"\\uadf8\\uac8c\", \"\\uc800\\uc7a5\", \"\\uc774\\uc57c\\uae30\", \"\\ub0b4\\uc6a9\", \"\\uae30\\uac04\", \"\\uac2f\\uc218\", \"\\uc815\\ud655\", \"\\uc778\\uc0c1\", \"\\ub2e4\\uc591\", \"\\uc54c\\ub78c\", \"\\uc18c\\ubaa8\", \"\\uc885\\ub958\", \"\\ubaa9\\ud45c\", \"\\ub9c8\\ub2e4\", \"\\ub2e8\\uc704\", \"\\ud1b5\\uacc4\", \"\\ub85c\\ub529\", \"\\uc544\\uc774\\ud3f0\", \"\\uac1c\\uc778\", \"\\uc785\\ub825\", \"\\ubd80\\ubd84\", \"\\uc124\\uc815\", \"\\uac00\\uc9c0\", \"\\uac00\\ub2a5\", \"\\uc790\\ub3d9\", \"\\uc218\\uc815\", \"\\ubd88\\ud3b8\", \"\\ud3ec\\uc778\\ud2b8\", \"\\uc0ac\\uc6a9\", \"\\uc0c1\\uc790\", \"\\ubcf4\\ubb3c\", \"\\ud3b8\\uc758\\uc810\", \"\\uac00\\uc704\\ubc14\\uc704\\ubcf4\", \"\\ud544\\uc694\", \"\\uac8c\\uc784\", \"\\ud3b8\\ub9ac\", \"\\uc720\\uc6a9\", \"\\ubcc4\\uac1c\", \"\\uc9c0\\uae09\", \"\\uc2e0\\uace0\", \"\\ubcf5\\uad8c\", \"\\uc0c1\\uc810\", \"\\uc774\\uac78\", \"\\uac78\\ub85c\", \"\\ub85c\\uadf8\\uc544\\uc6c3\", \"\\ub098\\ub984\", \"\\ucd5c\\ub300\", \"\\uc8fc\\uc791\", \"\\uc624\\ube0c\", \"\\uc815\\ub9bd\", \"\\ud150\\ub370\", \"\\ud654\\uc774\\ud305\", \"\\uc18c\\uba78\", \"\\ub2ec\\uc131\", \"\\uc758\\uacac\", \"\\uae00\\uc528\\uccb4\", \"\\uc124\\uba85\\uc11c\", \"\\uc774\\uac83\", \"\\ub9cc\\ud07c\", \"\\uc815\\ub3c4\", \"\\uac00\\ub2a5\", \"\\uc0dd\\uac01\", \"\\ub54c\\ubb38\", \"\\uac74\\uc9c0\", \"\\uc0ac\\ub78c\", \"\\uc624\\ub298\", \"\\uc560\\ud50c\\ub9ac\\ucf00\\uc774\\uc158\", \"\\uac10\\uc0ac\", \"\\uac00\\uaca9\", \"\\ucc98\\uc74c\", \"\\uc9dc\\uc99d\", \"\\uc81c\\uc791\\uc790\", \"\\ub355\\ubd84\", \"\\uc74c\\uc2dd\", \"\\uc77c\\uc11d\\uc774\\uc870\", \"\\uc870\\uae08\", \"\\ucd5c\\uc545\", \"\\ud604\\uc9c8\", \"\\uac1c\\ubc1c\\uc790\", \"\\uc0ac\\ub791\", \"\\uc800\\ud76c\", \"\\uadf8\\ub54c\", \"\\ud6c4\\ud68c\", \"\\uce74\\uc6b4\\ud2b8\", \"\\uacf5\\uc720\", \"\\uc4f0\\ub808\\uae30\", \"\\uc548\\uc2ec\", \"\\uc740\\uadfc\", \"\\uace0\\ubbfc\", \"\\uc774\\uc820\", \"\\ub098\\uba38\\uc9c0\", \"\\uc778\\uae30\", \"\\ubc14\\ucf54\\ub4dc\", \"\\ud589\\ubcf5\", \"\\ucd08\\ub4f1\\ud559\\uc0dd\", \"\\uadf8\\ub0a0\", \"\\uc790\\uccb4\", \"\\ub9c8\\uc74c\", \"\\uc0dd\\uac01\", \"\\uc774\\ub984\", \"\\uc9c4\\uc2ec\", \"\\ucd5c\\uace0\", \"\\uc0ac\\ub78c\", \"\\uc9c0\\uae08\", \"\\ub9ac\\ubdf0\", \"\\uc2dc\\uc791\", \"\\uae30\\ubcf8\", \"\\ub54c\\ubb38\", \"\\uc815\\ub3c4\", \"\\uc6b4\\ub3d9\", \"\\ud130\\uce58\", \"\\uc774\\ub4dd\", \"\\uc124\\uba85\", \"\\uc6b4\\uc601\", \"\\uc911\\uac04\", \"\\ud3c9\\uc18c\", \"\\ucf54\\uce6d\", \"\\ub2e8\\uc810\", \"\\uc8fc\\uc138\\uc694\", \"\\ud6a8\\uacfc\", \"\\ub3d9\\uc601\\uc0c1\", \"\\uac70\\uae30\", \"\\ub2e4\\uc6b4\\ub85c\\ub4dc\", \"\\uc2e4\\uc218\", \"\\ucd5c\\uc2e0\", \"\\ud63c\\uc790\", \"\\uc74c\\uc545\", \"\\uac00\\uc871\", \"\\uc7a5\\uc810\", \"\\uc18d\\ub3c4\", \"\\uc544\\uc774\\uc2a4\\ud06c\\ub9bc\", \"\\ubc84\\ub2c8\", \"\\uc911\\ub3c5\", \"\\uc601\\uc0c1\", \"\\uacb0\\uacfc\", \"\\uad00\\ub828\", \"\\ub9d0\\uc500\", \"\\uac00\\uce58\", \"\\ub79c\\ub364\", \"\\uc2dc\\uc791\", \"\\ubc29\\ubc95\", \"\\ubd80\\uc871\", \"\\ud655\\uc778\", \"\\uc0dd\\uac01\", \"\\uac00\\uc9c0\", \"\\uc801\\ub9bd\", \"\\uc624\\ub958\", \"\\ud68c\\uc6d0\", \"\\ud68c\\uc6d0\\uac00\\uc785\", \"\\ub9cc\\ubcf4\", \"\\uae30\\uae30\", \"\\ub9ac\\uc14b\", \"\\ub85c\\uadf8\\uc778\", \"\\ud574\\uacb0\", \"\\ud074\\ub9ad\", \"\\ubb38\\uc81c\", \"\\ub3c4\\uc6c0\", \"\\ubc88\\ud638\", \"\\uacc4\\uc815\", \"\\uc5f0\\ub3d9\", \"\\uc774\\ud6c4\", \"\\ub370\\uc774\\ud130\", \"\\uc2e4\\uc2dc\\uac04\", \"\\ucda9\\uc804\", \"\\uac00\\uc785\", \"\\ubcf5\\uad6c\", \"\\ud0c8\\ud1f4\", \"\\uc2e4\\ub9dd\", \"\\ubc29\\uce58\", \"\\uc791\\ub3d9\", \"\\uc544\\uc774\\ub514\", \"\\uc77c\\uc2dc\", \"\\uc0dd\\ud65c\", \"\\uc804\\uc6d0\", \"\\uac74\\uac00\", \"\\uc218\\uc815\", \"\\uc694\\uad6c\", \"\\uac74\\uac00\\uc694\", \"\\uac1c\\uc120\", \"\\uce74\\uce74\\uc624\\ud1a1\", \"\\uc0ad\\uc81c\", \"\\ud655\\uc778\", \"\\uad11\\uace0\", \"\\uce5c\\uad6c\", \"\\ubb34\\ub8cc\", \"\\uad6c\\ub9e4\", \"\\uc2a4\\ub9c8\\ud2b8\\ud3f0\", \"\\ucfe0\\ud3f0\", \"\\ub2f5\\ubcc0\", \"\\ub2f9\\ucca8\", \"\\uac1c\\uafc0\", \"\\uc0c1\\ud488\", \"\\uce74\\ub4dc\", \"\\uad8c\\ud2b8\", \"\\uc774\\ubca4\\ud2b8\", \"\\uc544\\uc774\\ud15c\", \"\\ucd08\\ub300\", \"\\ucee4\\ud53c\", \"\\uacbd\\uc6b0\", \"\\uc774\\uc720\", \"\\uacb0\\uc81c\", \"\\uc548\\ub155\", \"\\ud658\\ubd88\", \"\\uc544\\ubb34\\uac83\", \"\\ubb38\\uc790\", \"\\uc81c\\ud55c\", \"\\uac04\\uc2dd\", \"\\ubca0\\ub9ac\", \"\\uae08\\uc561\", \"\\uc801\\ub9bd\\uae08\", \"\\ud61c\\ud0dd\", \"\\uc694\\uc998\", \"\\ud604\\uae08\", \"\\uc790\\ub3d9\", \"\\uc694\\uad6c\", \"\\uac74\\uac00\\uc694\", \"\\uac00\\uc694\", \"\\ud655\\uc778\", \"\\uc774\\uc0c1\", \"\\uc815\\ub3c4\", \"\\uc774\\uac70\", \"\\uac74\\uac15\", \"\\uc774\\uac8c\", \"\\uc77c\\uae30\", \"\\uc1fc\\ud551\", \"\\uc0ac\\uc9c4\", \"\\uad50\\ud658\", \"\\uae30\\ubd84\", \"\\ub3d9\\uc548\", \"\\uc5bc\\ub9c8\", \"\\ud734\\ub300\\ud3f0\", \"\\uba38\\ub2c8\", \"\\uc22b\\uc790\", \"\\uc6a9\\ub3c8\", \"\\ub290\\ub08c\", \"\\uc5b4\\uc81c\", \"\\uc8fc\\uc77c\", \"\\ub3c8\\ubc8c\\uc774\", \"\\ubb54\\uac00\", \"\\ud2f0\\ucf13\", \"\\uc5ec\\ub7ec\\ubd84\", \"\\uba70\\uce60\", \"\\uad00\\ub9ac\", \"\\uc790\\uae30\", \"\\uacc4\\uc18d\", \"\\uc11d\\uc870\", \"\\ucc38\\uace0\", \"\\uac1c\\uc6d4\", \"\\uac81\\ub2c8\\uae4c\", \"\\uc2dd\\ub2e8\", \"\\ucd5c\\uace0\", \"\\uc608\\uc804\", \"\\uccb4\\uc911\", \"\\uac74\\uc9c0\", \"\\uc815\\ub3c4\", \"\\uac74\\ub370\", \"\\uc9c4\\uc2ec\", \"\\uc5c5\\ub370\\uc774\\ud2b8\", \"\\ud654\\uba74\", \"\\uc0c1\\ud488\\uad8c\", \"\\ud558\\ub098\", \"\\uc124\\uce58\", \"\\ub300\\ubc15\", \"\\ub2e4\\uc6b4\", \"\\uc5b4\\ub514\", \"\\uc774\\uac78\\ub85c\", \"\\uc2e4\\ud589\", \"\\uc870\\uc544\", \"\\uc640\\uc774\\ud30c\\uc774\", \"\\ubc84\\ud2bc\", \"\\uc120\\ubb3c\", \"\\uc6b0\\uc720\", \"\\uae30\\ub300\", \"\\ucf54\\ub4dc\", \"\\ubc14\\ub098\\ub098\", \"\\uacf5\\uc9c0\", \"\\uc800\\ubc88\", \"\\uc800\\uae30\", \"\\uc54c\\ub9bc\", \"\\uc7a5\\ub09c\", \"\\ub098\\uc911\", \"\\uc2ac\\ub77c\\uc774\\ub4dc\", \"\\ubcc4\\uc810\", \"\\ud31d\\uc5c5\", \"\\ud559\\uc0dd\", \"\\ud559\\uad50\", \"\\uac00\\uc704\", \"\\ubd88\\ud3b8\", \"\\ub2e4\\uc74c\", \"\\ub9ac\\ubdf0\", \"\\uc0ad\\uc81c\", \"\\uadf8\\uac83\", \"\\ud655\\uc778\", \"\\uc774\\uac74\", \"\\uc218\\uc815\", \"\\uac74\\uac00\\uc694\", \"\\uc124\\uc815\", \"\\uac78\\uc74c\", \"\\ud558\\ub8e8\", \"\\ucd94\\ucc9c\", \"\\ub9cc\\ubcf4\\uae30\", \"\\ucf54\\uc778\", \"\\ub2e4\\uc774\\uc5b4\\ud2b8\", \"\\ud655\\ub960\", \"\\ub0b4\\uc694\", \"\\ub9ac\\ub9ac\", \"\\uc6cc\\ub4dc\", \"\\ubcf4\\uc0c1\", \"\\ub178\\ub825\", \"\\uc644\\uc804\", \"\\uc885\\uc77c\", \"\\uc778\\uc2dd\", \"\\uc21c\\uc704\", \"\\ud14c\\ub9c8\", \"\\uba54\\uc77c\", \"\\uc544\\uc774\\ub514\\uc5b4\", \"\\uc870\\uce58\", \"\\uac70\\ub9ac\", \"\\uc2a4\\ud1a0\\uc5b4\", \"\\uc131\\uacf5\", \"\\uc9c0\\uc778\", \"\\ubd88\\ub9cc\", \"\\uc77c\\ubd80\", \"\\uc815\\ub9ac\", \"\\ucd08\\ubc18\", \"\\uc810\\uc218\", \"\\uc720\\ub3c4\", \"\\uc774\\uc0c1\", \"\\uc774\\ubc88\", \"\\uc0ac\\ub78c\", \"\\uc815\\ub3c4\", \"\\uc2dc\\uc791\", \"\\uadf8\\uac74\", \"\\ubb3c\\uac74\", \"\\uc6cc\\ud06c\", \"\\ud68d\\ub4dd\", \"\\uac78\\uc74c\\uc218\", \"\\ubb38\\ud654\", \"\\uc778\\uc99d\", \"\\ub9cc\\uc871\", \"\\uae30\\ub85d\", \"\\ubc30\\uacbd\", \"\\ud574\\ud53c\", \"\\uce21\\uc815\", \"\\uc544\\uce68\", \"\\ub9cc\\uc694\", \"\\uc0ac\\uae30\", \"\\uceec\\uccd0\\ub79c\\ub4dc\", \"\\ub77c\\uba74\", \"\\uc774\\ud2c0\", \"\\ubc15\\uc778\\uc815\", \"\\uac8c\\uc694\", \"\\ubb54\\uac00\\uc694\", \"\\ucc28\\uc774\", \"\\uc6d0\\ub798\", \"\\ucc9c\\ubcf4\", \"\\uc778\\ud130\\ub137\", \"\\uc6b0\\ub9ac\", \"\\ub514\\uc790\\uc778\", \"\\uac78\\uae4c\\uc694\", \"\\ube44\\uad50\", \"\\uc2ec\\ud50c\", \"\\ub9cc\\uc810\", \"\\uc774\\uac74\", \"\\ubb34\\uc5c7\", \"\\ub54c\\ubb38\", \"\\uc815\\ub3c4\", \"\\ud655\\uc778\", \"\\uc5c4\\ub9c8\"], \"Freq\": [69174.0, 51009.0, 37656.0, 36298.0, 31317.0, 28528.0, 19590.0, 18977.0, 16283.0, 17566.0, 15306.0, 12717.0, 13157.0, 14551.0, 16415.0, 11256.0, 11033.0, 10939.0, 11458.0, 9836.0, 9714.0, 9129.0, 8431.0, 7595.0, 9075.0, 7129.0, 8183.0, 6240.0, 6253.0, 6347.0, 17565.29510190373, 11457.32600601309, 8182.735249966931, 5894.446590967076, 5362.360428242867, 4779.519979779848, 3166.984637722575, 3163.855789044814, 3152.701194172474, 2302.3026277404592, 2139.814272370314, 2074.0748856592854, 2024.397700004222, 1928.9299354215732, 1874.089574057152, 1831.7585338315555, 1760.5214454465925, 1754.8816541489082, 1553.4858353143861, 1451.2626601159711, 1435.2952387527885, 1398.397168707742, 1329.9365818964263, 1156.1918993192767, 1143.1569744372555, 1143.0264725499756, 1128.6103693961486, 1122.151205256896, 1040.951540462953, 1040.7976233564614, 2362.588266260716, 2920.2850847230575, 2305.9488488727516, 2781.066023000704, 2774.018441595045, 3111.493285314809, 2457.308182306215, 1661.7913734282174, 1600.4653959192224, 69172.77272125338, 15305.10833774139, 14550.654034931566, 5252.923324475378, 4082.9178977444676, 2585.4671288514432, 2520.370805189011, 2025.9104043688121, 1754.2644796580225, 1494.3653692020268, 1105.511583096718, 1050.9592712547617, 898.6942211381138, 856.6467681370381, 705.2240537122542, 682.2207088785062, 668.5638955655812, 562.938365696408, 559.5146868108507, 529.6322671602135, 507.8175563752561, 477.6280711306628, 467.2199895063638, 391.61155087107716, 385.3846892732511, 377.9444528925154, 321.4580125845881, 318.9729352996686, 276.83851214529824, 273.1266288795136, 1462.382072852701, 694.8785431306397, 1580.2129836067334, 1187.6425494866999, 1265.689784411541, 848.3714240986795, 737.5219313727321, 810.3769924073121, 608.1166003746125, 51008.592764575646, 11032.760960882015, 10938.48215665995, 6345.83701128378, 3611.108924644991, 3520.4828135305597, 2214.7531351683133, 1728.3292145583225, 1590.556139401107, 1385.408772979857, 1265.1893220265604, 1120.5168243605265, 1056.1665356004335, 764.00892176404, 752.841909067553, 632.0601444670511, 605.4824049857363, 580.4287448418287, 579.2510089804393, 565.1830152067503, 520.0626138644874, 516.2289245200179, 506.3855999695175, 486.2394584877689, 478.17672380219886, 470.6818341768747, 467.2624056584158, 464.0687498152667, 453.40432550872384, 443.38270041002164, 1379.8770798676903, 2931.501593895406, 3965.907200504606, 634.2710292540212, 1107.5607146258885, 3240.8809471532813, 2020.494530362241, 878.439713961384, 1310.7893108830224, 1841.4861013270458, 755.7208345104796, 748.2541270845079, 772.9027337544916, 37655.72451979577, 6028.857989158839, 3463.147335368553, 3312.79569639778, 2873.5717995793284, 2796.4159594181256, 2710.057816267876, 2595.745174313981, 2048.566081237841, 1982.3466311389247, 1971.3419645016102, 1956.6371212951942, 1931.8614143058892, 1623.008809887953, 1308.5546297357378, 1288.9222867994117, 1131.992165341558, 1083.7858688572396, 1074.317218259346, 1022.6121266191408, 1019.0508480521676, 927.9630003408776, 914.705206727634, 912.8178766748862, 885.8003531725861, 871.365719684312, 786.3046245608854, 766.9387671658812, 736.7783142926895, 736.5197598686688, 6910.374504495189, 2114.8209799827823, 1282.1549057880864, 1556.159008379181, 1300.526407972226, 909.6521884456519, 36297.71380448847, 9128.759079248652, 6252.001738984876, 5665.137421708217, 4521.317047180579, 4510.1122414785705, 3385.7991248768117, 3380.954922629034, 3092.2684529350463, 3090.2879025104844, 2872.6874417553636, 2388.5232433101564, 2190.220158429228, 2098.4980481891266, 1886.972258731424, 1787.2153601605771, 1763.625077640525, 1644.531018976791, 1603.4036092790966, 1444.7606542206552, 1324.2045931801126, 1200.3326392997594, 920.0308966764685, 780.9108290583938, 723.1736433759736, 692.4353275765664, 680.709673378785, 674.7232986891847, 646.7994457215112, 636.0458661325601, 2267.0846221528477, 2304.2004564654544, 1401.4999172857908, 1034.0494227459649, 900.4794566165621, 1031.2010621360573, 1002.4045951062911, 16282.63353777983, 8430.681714952469, 5123.161389648977, 4629.113966299888, 4350.784513586728, 4311.672523237594, 4226.58328854317, 4226.141736775313, 2653.5905361806194, 2544.9459492699293, 2448.372813852887, 2446.5576018986553, 1536.6801342046886, 1531.448926443175, 1332.6702679779885, 1250.0706336768, 1216.2841791407948, 1208.6152958489129, 1201.2505983062506, 1141.393419162792, 1087.6378557510677, 1032.488128814697, 1007.889201114882, 983.4586800913355, 919.3074798310787, 898.355670708351, 843.1443068015102, 819.1307716265911, 789.8174726364946, 732.1881113258002, 1312.0246124171317, 4144.848983986005, 4035.934235441617, 2493.734831094372, 1078.6290824770233, 1528.035342793337, 1266.779140466875, 1088.9679701478008, 28527.476812850484, 4970.305172889281, 4634.679784840174, 3483.191097209638, 3328.3241235940527, 3027.3157037969563, 2981.761133939809, 2948.963922799319, 2656.1976265137178, 2493.5645077497297, 2360.4875909289726, 2262.6580723606394, 2261.6994326309173, 2085.806492291677, 1667.1768389485928, 1659.3498042123995, 1448.4365639817008, 1417.9109552474918, 1337.2624487006435, 1322.3025452809304, 1216.1331333345283, 1072.4035088742705, 1068.9018625390315, 973.1377633419008, 956.7473258870912, 800.8542018301179, 653.7252799962115, 586.327313075257, 551.6764347682579, 548.9331236955896, 13173.199948654104, 1220.871259083614, 826.8810353493601, 1621.4768518848323, 3252.061895035949, 923.2959848354926, 1036.5191213772193, 18976.579111876123, 9835.115411982715, 9713.723900138604, 6239.534104863024, 4457.723770111121, 3961.131042855309, 2088.460145467545, 1964.6246438722285, 1763.7504588063102, 1758.3694636474604, 1741.8696830253286, 1666.5585492132882, 1535.8260720626054, 1204.0283591546322, 1134.0081667746015, 1113.8803608814028, 986.3415992558869, 935.3488474207151, 859.4936295096768, 830.0999790769777, 824.4312679604762, 816.6016663720177, 809.3546781985974, 734.9695588802105, 718.0800964033912, 707.3787498612343, 707.343241334765, 692.2805586041197, 635.6291269536642, 584.227200621666, 7474.126014954863, 2266.504798842999, 2560.6138871477574, 2589.0026975778032, 1639.034482545027, 2979.844307476639, 1048.1794416199818, 1046.5972318370175, 954.97856501084, 904.5232287391975, 31315.951976744298, 13155.833420510908, 11255.019269713534, 7594.0237612648825, 7127.924042095722, 3300.707604374511, 3137.869479029035, 1877.2727948825789, 1836.8204644649177, 1813.2553114030725, 1578.9414962403487, 1286.6808385322815, 1246.1528309313478, 1106.6177516821065, 1011.2252523835739, 1005.7834877145777, 898.481756927127, 808.9115510850141, 754.5239609812567, 593.4599073092176, 560.8809363017659, 508.89336178673875, 447.5210834584577, 445.22000648228453, 372.0222378105098, 345.13320977576666, 303.3827224299954, 275.8552034059807, 272.039003806734, 260.406428250107, 5481.250790130394, 1040.3984117957023, 1663.6530239075319, 1513.6311848147136, 935.9306843782522, 390.1986058707842, 19589.213432117125, 12716.194957812737, 5406.064431453424, 4692.88604735631, 3379.959645475325, 2887.0029309559927, 2176.6779089787856, 2018.179906102521, 1921.1189770852152, 1389.5764075481568, 1326.8898983441088, 1301.3104737339447, 1180.1262914483184, 1130.1649908915415, 1064.4237546531, 875.8191128612789, 840.7904344229989, 769.3647183326282, 696.3663898904772, 678.7047512736498, 616.0094253873872, 611.6392899030577, 599.2557023563054, 593.8003042301912, 547.2439658081912, 538.3159096424806, 530.9578309580035, 514.9697911737239, 501.02326935739217, 450.36925119972636, 3207.031064660917, 701.8106404873546, 960.7891276448845, 1413.817419261687, 989.0986835063028, 594.3138506338931], \"Total\": [69174.0, 51009.0, 37656.0, 36298.0, 31317.0, 28528.0, 19590.0, 18977.0, 16283.0, 17566.0, 15306.0, 12717.0, 13157.0, 14551.0, 16415.0, 11256.0, 11033.0, 10939.0, 11458.0, 9836.0, 9714.0, 9129.0, 8431.0, 7595.0, 9075.0, 7129.0, 8183.0, 6240.0, 6253.0, 6347.0, 17566.3992576896, 11458.430111226638, 8183.839391943855, 5895.551655545564, 5363.464591768183, 4780.6241815900785, 3168.0887661695174, 3164.9598713028854, 3153.805306069256, 2303.406694447093, 2140.9183958185954, 2075.1790812238087, 2025.5019011113434, 1930.034031672885, 1875.1937254915756, 1832.862707629576, 1761.6256059701523, 1755.985818284491, 1554.5899271853314, 1452.367060348394, 1436.3993643394156, 1399.501252185757, 1331.0406777211315, 1157.2960062815416, 1144.2610940925351, 1144.130655056427, 1129.714500892373, 1123.2553537277927, 1042.0557058495604, 1041.9017266378532, 2537.417647440145, 3263.4179852447282, 2685.7848815908583, 3686.597047347891, 3684.48518888985, 5549.658880352363, 6603.171777706916, 4976.382727964645, 9075.599255177198, 69174.0167765691, 15306.352338987968, 14551.898190631433, 5254.16738315655, 4084.161878232934, 2586.7113444440097, 2521.614910324946, 2027.1544018943857, 1755.508436085868, 1495.6093285463637, 1106.7555751012103, 1052.203375371176, 899.9382895094121, 857.8910378595242, 706.468215206845, 683.4647219716633, 669.8079116521485, 564.1824970181357, 560.7587745102641, 530.8762997642932, 509.061767274321, 478.87502788504855, 468.46402689241046, 392.85558093861704, 386.62868065956997, 379.1883801412408, 322.7020156014163, 320.21695869072727, 278.0824700106391, 274.37071240368823, 1859.740971857988, 987.8570759498629, 10124.37479773939, 5549.658880352363, 7407.3571989860275, 2996.689895496697, 3125.8673374329437, 6868.486291078858, 2068.4878440804214, 51009.79087895191, 11033.95904945925, 10939.680357972373, 6347.035162200387, 3612.3070563855895, 3521.680926991656, 2215.95122192828, 1729.5272528802861, 1591.7543410767073, 1386.606893655776, 1266.3874374516133, 1121.715052353169, 1057.3646400064897, 765.2069910699287, 754.040069512206, 633.2582647654555, 606.6804992860386, 581.6268647378934, 580.4490990141802, 566.3811401142677, 521.2619642792818, 517.427074484238, 507.58367687680845, 487.4375888885044, 479.3749082193592, 471.87996963736833, 468.4605448284519, 465.26686306634025, 454.60243522028003, 444.5808113091727, 1633.572899260452, 4457.283206560339, 7407.3571989860275, 795.6897254752744, 2145.1563424992314, 16415.15731606241, 6868.486291078858, 1553.1999220619855, 3872.505058223883, 9688.585543926498, 1244.944372882499, 2996.689895496697, 10124.37479773939, 37656.74121766359, 6029.8747630234175, 3464.164114844144, 3313.812431649867, 2874.5886530064595, 2797.4326937616133, 2711.0745733010076, 2596.7619047963117, 2049.582844086764, 1983.36341280437, 1972.3586482944656, 1957.6538593000485, 1932.8782166318326, 1624.0255740992882, 1309.5714059382256, 1289.9391062461598, 1133.0088560878196, 1084.8025679205998, 1075.3339851954736, 1023.6289055990679, 1020.0675735838427, 928.9798668845273, 915.7219961797862, 913.8346302599062, 886.8170640953434, 872.3825264221838, 787.321401679395, 767.9555985060731, 737.7951211795998, 737.536576384264, 9688.585543926498, 3848.450701591753, 1842.8674596587246, 8056.150907387473, 7407.3571989860275, 3684.48518888985, 36298.92198490142, 9129.96710706719, 6253.209770857808, 5666.345576964859, 4522.525036457691, 4511.3202267109355, 3387.00716579991, 3382.1629099851075, 3093.476487700184, 3091.496006785728, 2873.895501649975, 2389.731251715599, 2191.4281469404277, 2099.7060191459223, 1888.1802406817017, 1788.4233969086904, 1764.8331108841833, 1645.7393848703057, 1604.6118043209678, 1445.9686544005897, 1325.4126385455324, 1201.540633053766, 921.2390280673222, 782.1193549157804, 724.3816368518397, 693.6433396954336, 681.9176655303833, 675.9313345585407, 648.0075509026611, 637.253978112223, 4976.382727964645, 7085.955101685312, 4851.235505151532, 2298.428557336022, 1852.2066082666076, 4071.3694873383774, 8056.150907387473, 16283.850339618375, 8431.898548873913, 5124.378181546646, 4630.3307491456935, 4352.001388243102, 4312.889297056058, 4227.800125237772, 4227.358558295325, 2654.8074211795674, 2546.162707771426, 2449.5895628737007, 2447.774354380069, 1537.897057555872, 1532.6657647976192, 1333.8870517741439, 1251.2874326601159, 1217.501051155835, 1209.8321486495527, 1202.467317540749, 1142.6103176561198, 1088.854609298219, 1033.7049619277304, 1009.1061748902323, 984.6756328046637, 920.5243388240219, 899.5725378488714, 844.361178988162, 820.3476749882028, 791.0344005207794, 733.4049514687077, 1453.158107141467, 6603.171777706916, 7085.955101685312, 4851.235505151532, 1590.9385220189934, 8056.150907387473, 6749.132499431725, 10124.37479773939, 28528.661517884553, 4971.489822224042, 4635.864543754077, 3484.375722612277, 3329.5089813041436, 3028.500366713218, 2982.945992490688, 2950.1485978982446, 2657.382348838164, 2494.7492569088263, 2361.672339187398, 2263.842840519785, 2262.884118295702, 2086.9913485144575, 1668.3615013251176, 1660.534552156217, 1449.6212308492175, 1419.0997684304193, 1338.4471289670746, 1323.4878040500705, 1217.317896403703, 1073.5882492076921, 1070.0864861593127, 974.3224540928692, 957.9320356702942, 802.0390038251128, 654.910064775413, 587.51200545907, 552.8612066911776, 550.1177159882448, 16415.15731606241, 1717.5738974999415, 1022.3448081742256, 3125.8673374329437, 10124.37479773939, 1267.6031342055958, 2145.1563424992314, 18977.789121013822, 9836.325449585522, 9714.93410742477, 6240.744188670981, 4458.933869607951, 3962.3412018098165, 2089.670222598229, 1965.834695222991, 1764.960524184782, 1759.579509351889, 1743.0797159430424, 1667.7686521521075, 1537.036101432487, 1205.2384372103083, 1135.218195726021, 1115.0905344111416, 987.5517264783215, 936.5588744075048, 860.7038126937821, 831.3100621964529, 825.6413530922449, 817.8116780232162, 810.564767960523, 736.1796688520117, 719.2902190440604, 708.5888830705474, 708.55333952035, 693.4906757216074, 636.8392849183069, 585.4376491394107, 9075.599255177198, 2910.9714678008786, 3872.505058223883, 4071.3694873383774, 2913.1411387575426, 8056.150907387473, 4256.297080329572, 4976.382727964645, 4851.235505151532, 3686.597047347891, 31317.144079933325, 13157.025518282024, 11256.211395012504, 7595.215858426494, 7129.116218123723, 3301.899629428617, 3139.0616637977055, 1878.4649020195911, 1838.012730489381, 1814.4475763778626, 1580.1336557617224, 1287.8729770106752, 1247.3449296147842, 1107.8098367446182, 1012.4173314151176, 1006.9756262016451, 899.6738359969142, 810.103691557412, 755.716158193567, 594.652056374733, 562.0729882906874, 510.08553688550336, 448.71311115955774, 446.41214678374547, 373.21445359057805, 346.32541579283867, 304.5747562851922, 277.04740297178205, 273.2310847856287, 261.59863658283626, 6749.132499431725, 1565.199690566357, 6868.486291078858, 10124.37479773939, 9688.585543926498, 542.4193793154701, 19590.39624831895, 12717.377827014945, 5407.247331305254, 4694.06882815471, 3381.1423972476646, 2888.1857121988446, 2177.8606862893766, 2019.3626247713569, 1922.301781345632, 1390.7591767083509, 1328.0726433534667, 1302.4932641382227, 1181.3091123758297, 1131.347848276967, 1065.6065651044632, 877.0018884212963, 841.9732553478498, 770.5475194767531, 697.5491985464171, 679.8876193556401, 617.1922229892575, 612.8221631232572, 600.4385276638546, 594.9831770121837, 548.4268241800636, 539.4986430466465, 532.1406481737297, 516.1525795594308, 502.20597500647665, 451.55207856370816, 4256.297080329572, 1037.7070584961104, 2996.689895496697, 10124.37479773939, 8056.150907387473, 1001.4665576048799], \"Category\": [\"Default\", \"Default\", \"Default\", \"Default\", \"Default\", \"Default\", \"Default\", \"Default\", \"Default\", \"Default\", \"Default\", \"Default\", \"Default\", \"Default\", \"Default\", \"Default\", \"Default\", \"Default\", \"Default\", \"Default\", \"Default\", \"Default\", \"Default\", \"Default\", \"Default\", \"Default\", \"Default\", \"Default\", \"Default\", \"Default\", \"Topic1\", \"Topic1\", \"Topic1\", \"Topic1\", \"Topic1\", \"Topic1\", \"Topic1\", \"Topic1\", \"Topic1\", \"Topic1\", \"Topic1\", \"Topic1\", \"Topic1\", \"Topic1\", \"Topic1\", \"Topic1\", \"Topic1\", \"Topic1\", \"Topic1\", \"Topic1\", \"Topic1\", \"Topic1\", \"Topic1\", \"Topic1\", \"Topic1\", \"Topic1\", \"Topic1\", \"Topic1\", \"Topic1\", \"Topic1\", \"Topic1\", \"Topic1\", \"Topic1\", \"Topic1\", \"Topic1\", \"Topic1\", \"Topic1\", \"Topic1\", \"Topic1\", \"Topic2\", \"Topic2\", \"Topic2\", \"Topic2\", \"Topic2\", \"Topic2\", \"Topic2\", \"Topic2\", \"Topic2\", \"Topic2\", \"Topic2\", \"Topic2\", \"Topic2\", \"Topic2\", \"Topic2\", \"Topic2\", \"Topic2\", \"Topic2\", \"Topic2\", \"Topic2\", \"Topic2\", \"Topic2\", \"Topic2\", \"Topic2\", \"Topic2\", \"Topic2\", \"Topic2\", \"Topic2\", \"Topic2\", \"Topic2\", \"Topic2\", \"Topic2\", \"Topic2\", \"Topic2\", \"Topic2\", \"Topic2\", \"Topic2\", \"Topic2\", \"Topic2\", \"Topic3\", \"Topic3\", \"Topic3\", \"Topic3\", \"Topic3\", \"Topic3\", \"Topic3\", \"Topic3\", \"Topic3\", \"Topic3\", \"Topic3\", \"Topic3\", \"Topic3\", \"Topic3\", \"Topic3\", \"Topic3\", \"Topic3\", \"Topic3\", \"Topic3\", \"Topic3\", \"Topic3\", \"Topic3\", \"Topic3\", \"Topic3\", \"Topic3\", \"Topic3\", \"Topic3\", \"Topic3\", \"Topic3\", \"Topic3\", \"Topic3\", \"Topic3\", \"Topic3\", \"Topic3\", \"Topic3\", \"Topic3\", \"Topic3\", \"Topic3\", \"Topic3\", \"Topic3\", \"Topic3\", \"Topic3\", \"Topic3\", \"Topic4\", \"Topic4\", \"Topic4\", \"Topic4\", \"Topic4\", \"Topic4\", \"Topic4\", \"Topic4\", \"Topic4\", \"Topic4\", \"Topic4\", \"Topic4\", \"Topic4\", \"Topic4\", \"Topic4\", \"Topic4\", \"Topic4\", \"Topic4\", \"Topic4\", \"Topic4\", \"Topic4\", \"Topic4\", \"Topic4\", \"Topic4\", \"Topic4\", \"Topic4\", \"Topic4\", \"Topic4\", \"Topic4\", \"Topic4\", \"Topic4\", \"Topic4\", \"Topic4\", \"Topic4\", \"Topic4\", \"Topic4\", \"Topic5\", \"Topic5\", \"Topic5\", \"Topic5\", \"Topic5\", \"Topic5\", \"Topic5\", \"Topic5\", \"Topic5\", \"Topic5\", \"Topic5\", \"Topic5\", \"Topic5\", \"Topic5\", \"Topic5\", \"Topic5\", \"Topic5\", \"Topic5\", \"Topic5\", \"Topic5\", \"Topic5\", \"Topic5\", \"Topic5\", \"Topic5\", \"Topic5\", \"Topic5\", \"Topic5\", \"Topic5\", \"Topic5\", \"Topic5\", \"Topic5\", \"Topic5\", \"Topic5\", \"Topic5\", \"Topic5\", \"Topic5\", \"Topic5\", \"Topic6\", \"Topic6\", \"Topic6\", \"Topic6\", \"Topic6\", \"Topic6\", \"Topic6\", \"Topic6\", \"Topic6\", \"Topic6\", \"Topic6\", \"Topic6\", \"Topic6\", \"Topic6\", \"Topic6\", \"Topic6\", \"Topic6\", \"Topic6\", \"Topic6\", \"Topic6\", \"Topic6\", \"Topic6\", \"Topic6\", \"Topic6\", \"Topic6\", \"Topic6\", \"Topic6\", \"Topic6\", \"Topic6\", \"Topic6\", \"Topic6\", \"Topic6\", \"Topic6\", \"Topic6\", \"Topic6\", \"Topic6\", \"Topic6\", \"Topic6\", \"Topic7\", \"Topic7\", \"Topic7\", \"Topic7\", \"Topic7\", \"Topic7\", \"Topic7\", \"Topic7\", \"Topic7\", \"Topic7\", \"Topic7\", \"Topic7\", \"Topic7\", \"Topic7\", \"Topic7\", \"Topic7\", \"Topic7\", \"Topic7\", \"Topic7\", \"Topic7\", \"Topic7\", \"Topic7\", \"Topic7\", \"Topic7\", \"Topic7\", \"Topic7\", \"Topic7\", \"Topic7\", \"Topic7\", \"Topic7\", \"Topic7\", \"Topic7\", \"Topic7\", \"Topic7\", \"Topic7\", \"Topic7\", \"Topic7\", \"Topic8\", \"Topic8\", \"Topic8\", \"Topic8\", \"Topic8\", \"Topic8\", \"Topic8\", \"Topic8\", \"Topic8\", \"Topic8\", \"Topic8\", \"Topic8\", \"Topic8\", \"Topic8\", \"Topic8\", \"Topic8\", \"Topic8\", \"Topic8\", \"Topic8\", \"Topic8\", \"Topic8\", \"Topic8\", \"Topic8\", \"Topic8\", \"Topic8\", \"Topic8\", \"Topic8\", \"Topic8\", \"Topic8\", \"Topic8\", \"Topic8\", \"Topic8\", \"Topic8\", \"Topic8\", \"Topic8\", \"Topic8\", \"Topic8\", \"Topic8\", \"Topic8\", \"Topic8\", \"Topic9\", \"Topic9\", \"Topic9\", \"Topic9\", \"Topic9\", \"Topic9\", \"Topic9\", \"Topic9\", \"Topic9\", \"Topic9\", \"Topic9\", \"Topic9\", \"Topic9\", \"Topic9\", \"Topic9\", \"Topic9\", \"Topic9\", \"Topic9\", \"Topic9\", \"Topic9\", \"Topic9\", \"Topic9\", \"Topic9\", \"Topic9\", \"Topic9\", \"Topic9\", \"Topic9\", \"Topic9\", \"Topic9\", \"Topic9\", \"Topic9\", \"Topic9\", \"Topic9\", \"Topic9\", \"Topic9\", \"Topic9\", \"Topic10\", \"Topic10\", \"Topic10\", \"Topic10\", \"Topic10\", \"Topic10\", \"Topic10\", \"Topic10\", \"Topic10\", \"Topic10\", \"Topic10\", \"Topic10\", \"Topic10\", \"Topic10\", \"Topic10\", \"Topic10\", \"Topic10\", \"Topic10\", \"Topic10\", \"Topic10\", \"Topic10\", \"Topic10\", \"Topic10\", \"Topic10\", \"Topic10\", \"Topic10\", \"Topic10\", \"Topic10\", \"Topic10\", \"Topic10\", \"Topic10\", \"Topic10\", \"Topic10\", \"Topic10\", \"Topic10\", \"Topic10\"], \"logprob\": [30.0, 29.0, 28.0, 27.0, 26.0, 25.0, 24.0, 23.0, 22.0, 21.0, 20.0, 19.0, 18.0, 17.0, 16.0, 15.0, 14.0, 13.0, 12.0, 11.0, 10.0, 9.0, 8.0, 7.0, 6.0, 5.0, 4.0, 3.0, 2.0, 1.0, -2.2793, -2.7066, -3.0432, -3.3713, -3.4659, -3.5809, -3.9925, -3.9935, -3.997, -4.3114, -4.3845, -4.4158, -4.44, -4.4883, -4.5171, -4.54, -4.5797, -4.5829, -4.7048, -4.7728, -4.7839, -4.8099, -4.8601, -5.0001, -5.0115, -5.0116, -5.0243, -5.03, -5.1051, -5.1053, -4.2855, -4.0736, -4.3098, -4.1224, -4.125, -4.0102, -4.2462, -4.6374, -4.675, -0.8033, -2.3117, -2.3622, -3.3811, -3.633, -4.09, -4.1155, -4.3338, -4.4778, -4.6382, -4.9396, -4.9902, -5.1467, -5.1946, -5.3891, -5.4223, -5.4425, -5.6144, -5.6205, -5.6754, -5.7175, -5.7788, -5.8008, -5.9773, -5.9934, -6.0129, -6.1747, -6.1825, -6.3242, -6.3377, -4.6598, -5.4039, -4.5823, -4.8679, -4.8042, -5.2043, -5.3443, -5.2501, -5.5373, -1.0811, -2.6122, -2.6208, -3.1652, -3.729, -3.7544, -4.2179, -4.4659, -4.549, -4.6871, -4.7778, -4.8993, -4.9584, -5.2822, -5.2969, -5.4718, -5.5148, -5.557, -5.5591, -5.5837, -5.6669, -5.6743, -5.6935, -5.7341, -5.7508, -5.7666, -5.7739, -5.7808, -5.804, -5.8264, -4.6911, -3.9375, -3.6353, -5.4683, -4.9109, -3.8372, -4.3097, -5.1427, -4.7424, -4.4025, -5.2931, -5.3031, -5.2706, -1.3694, -3.2014, -3.7557, -3.8001, -3.9424, -3.9696, -4.0009, -4.044, -4.2808, -4.3136, -4.3192, -4.3267, -4.3394, -4.5136, -4.729, -4.7441, -4.8739, -4.9175, -4.9262, -4.9756, -4.979, -5.0727, -5.0871, -5.0891, -5.1192, -5.1356, -5.2383, -5.2633, -5.3034, -5.3037, -3.0649, -4.2489, -4.7494, -4.5557, -4.7351, -5.0926, -1.387, -2.7674, -3.1459, -3.2445, -3.47, -3.4725, -3.7592, -3.7606, -3.8499, -3.8505, -3.9235, -4.1081, -4.1948, -4.2376, -4.3438, -4.3981, -4.4114, -4.4813, -4.5067, -4.6109, -4.698, -4.7962, -5.0621, -5.2261, -5.3029, -5.3463, -5.3634, -5.3722, -5.4145, -5.4313, -4.1603, -4.1441, -4.6413, -4.9453, -5.0836, -4.9481, -4.9764, -2.1249, -2.7831, -3.2812, -3.3826, -3.4446, -3.4537, -3.4736, -3.4737, -3.9391, -3.9809, -4.0196, -4.0203, -4.4854, -4.4888, -4.6278, -4.6918, -4.7192, -4.7255, -4.7316, -4.7827, -4.831, -4.883, -4.9071, -4.9317, -4.9991, -5.0222, -5.0856, -5.1145, -5.1509, -5.2267, -4.6434, -3.4931, -3.5197, -4.0012, -4.8393, -4.491, -4.6785, -4.8298, -1.5386, -3.286, -3.3559, -3.6415, -3.687, -3.7818, -3.797, -3.808, -3.9126, -3.9758, -4.0306, -4.0729, -4.0734, -4.1543, -4.3784, -4.3831, -4.519, -4.5403, -4.5989, -4.6101, -4.6938, -4.8196, -4.8229, -4.9167, -4.9337, -5.1116, -5.3146, -5.4234, -5.4843, -5.4893, -2.3113, -4.6899, -5.0796, -4.4062, -3.7102, -4.9693, -4.8536, -1.8641, -2.5213, -2.5337, -2.9764, -3.3126, -3.4307, -4.0709, -4.132, -4.2398, -4.2429, -4.2523, -4.2965, -4.3782, -4.6216, -4.6815, -4.6994, -4.821, -4.8741, -4.9587, -4.9935, -5.0003, -5.0099, -5.0188, -5.1152, -5.1385, -5.1535, -5.1535, -5.175, -5.2604, -5.3447, -2.7958, -3.989, -3.867, -3.856, -4.3132, -3.7154, -4.7602, -4.7617, -4.8533, -4.9076, -1.3525, -2.2197, -2.3758, -2.7693, -2.8326, -3.6025, -3.6531, -4.1668, -4.1886, -4.2015, -4.3399, -4.5445, -4.5766, -4.6953, -4.7854, -4.7908, -4.9037, -5.0087, -5.0783, -5.3184, -5.3749, -5.4721, -5.6006, -5.6058, -5.7854, -5.8604, -5.9894, -6.0845, -6.0984, -6.1421, -3.0953, -4.757, -4.2876, -4.3821, -4.8628, -5.7377, -1.7147, -2.1468, -3.0021, -3.1436, -3.4718, -3.6294, -3.9118, -3.9874, -4.0367, -4.3606, -4.4068, -4.4263, -4.524, -4.5673, -4.6272, -4.8222, -4.8631, -4.9518, -5.0515, -5.0772, -5.1741, -5.1813, -5.2017, -5.2109, -5.2925, -5.309, -5.3227, -5.3533, -5.3807, -5.4873, -3.5243, -5.0437, -4.7296, -4.3433, -4.7006, -5.21], \"loglift\": [30.0, 29.0, 28.0, 27.0, 26.0, 25.0, 24.0, 23.0, 22.0, 21.0, 20.0, 19.0, 18.0, 17.0, 16.0, 15.0, 14.0, 13.0, 12.0, 11.0, 10.0, 9.0, 8.0, 7.0, 6.0, 5.0, 4.0, 3.0, 2.0, 1.0, 2.0927, 2.0927, 2.0926, 2.0926, 2.0926, 2.0925, 2.0924, 2.0924, 2.0924, 2.0923, 2.0922, 2.0922, 2.0922, 2.0922, 2.0922, 2.0922, 2.0921, 2.0921, 2.0921, 2.092, 2.092, 2.092, 2.0919, 2.0918, 2.0918, 2.0918, 2.0918, 2.0918, 2.0917, 2.0917, 2.0214, 1.9817, 1.9403, 1.8109, 1.8089, 1.5141, 1.1043, 0.996, 0.3575, 2.1981, 2.1981, 2.1981, 2.1979, 2.1979, 2.1977, 2.1977, 2.1976, 2.1975, 2.1973, 2.197, 2.197, 2.1968, 2.1967, 2.1964, 2.1963, 2.1963, 2.196, 2.1959, 2.1958, 2.1957, 2.1956, 2.1955, 2.195, 2.1949, 2.1949, 2.1943, 2.1943, 2.1937, 2.1936, 1.9578, 1.8464, 0.3408, 0.6564, 0.4313, 0.9362, 0.754, 0.061, 0.974, 2.225, 2.2249, 2.2249, 2.2248, 2.2246, 2.2246, 2.2244, 2.2243, 2.2242, 2.2241, 2.224, 2.2239, 2.2238, 2.2234, 2.2234, 2.2231, 2.223, 2.2229, 2.2229, 2.2229, 2.2227, 2.2227, 2.2226, 2.2225, 2.2225, 2.2224, 2.2224, 2.2224, 2.2223, 2.2223, 2.0562, 1.806, 1.6002, 1.9982, 1.5639, 0.6026, 1.0014, 1.6551, 1.1417, 0.5646, 1.7258, 0.8375, -0.3476, 2.2401, 2.2399, 2.2398, 2.2398, 2.2398, 2.2397, 2.2397, 2.2397, 2.2396, 2.2396, 2.2396, 2.2396, 2.2396, 2.2395, 2.2393, 2.2393, 2.2392, 2.2392, 2.2392, 2.2391, 2.2391, 2.239, 2.239, 2.239, 2.239, 2.2389, 2.2388, 2.2388, 2.2387, 2.2387, 1.9022, 1.6414, 1.8773, 0.5959, 0.5004, 0.8413, 2.2592, 2.2591, 2.259, 2.259, 2.259, 2.259, 2.2589, 2.2589, 2.2588, 2.2588, 2.2588, 2.2587, 2.2587, 2.2587, 2.2586, 2.2586, 2.2585, 2.2585, 2.2585, 2.2584, 2.2583, 2.2582, 2.2579, 2.2577, 2.2576, 2.2575, 2.2575, 2.2574, 2.2574, 2.2573, 1.473, 1.1359, 1.0175, 1.4605, 1.538, 0.886, 0.1752, 2.323, 2.3229, 2.3228, 2.3228, 2.3228, 2.3228, 2.3228, 2.3228, 2.3226, 2.3226, 2.3225, 2.3225, 2.3222, 2.3222, 2.3221, 2.3221, 2.322, 2.322, 2.322, 2.322, 2.3219, 2.3219, 2.3218, 2.3218, 2.3217, 2.3217, 2.3216, 2.3216, 2.3215, 2.3214, 2.2209, 1.8574, 1.7602, 1.6576, 1.9344, 0.6606, 0.6501, 0.0933, 2.3485, 2.3483, 2.3483, 2.3482, 2.3482, 2.3481, 2.3481, 2.3481, 2.3481, 2.3481, 2.348, 2.348, 2.348, 2.348, 2.3478, 2.3478, 2.3477, 2.3477, 2.3477, 2.3476, 2.3476, 2.3474, 2.3474, 2.3473, 2.3473, 2.3471, 2.3467, 2.3465, 2.3464, 2.3464, 2.1285, 2.0072, 2.1363, 1.6922, 1.2129, 2.0316, 1.6212, 2.4307, 2.4306, 2.4306, 2.4306, 2.4305, 2.4304, 2.4302, 2.4301, 2.4301, 2.4301, 2.4301, 2.43, 2.43, 2.4297, 2.4297, 2.4297, 2.4295, 2.4295, 2.4293, 2.4293, 2.4293, 2.4293, 2.4293, 2.4291, 2.4291, 2.429, 2.429, 2.429, 2.4288, 2.4287, 2.2366, 2.1805, 2.0171, 1.978, 1.8556, 1.4362, 1.0294, 0.8716, 0.8054, 1.0257, 2.4414, 2.4413, 2.4413, 2.4413, 2.4412, 2.4411, 2.441, 2.4408, 2.4408, 2.4408, 2.4407, 2.4405, 2.4405, 2.4403, 2.4402, 2.4402, 2.4401, 2.4399, 2.4398, 2.4394, 2.4393, 2.4391, 2.4388, 2.4387, 2.4382, 2.438, 2.4375, 2.4371, 2.437, 2.4368, 2.2333, 2.033, 1.0235, 0.541, 0.1043, 2.112, 2.5483, 2.5483, 2.5482, 2.5481, 2.548, 2.548, 2.5478, 2.5478, 2.5478, 2.5475, 2.5475, 2.5475, 2.5474, 2.5473, 2.5473, 2.547, 2.547, 2.5468, 2.5467, 2.5466, 2.5465, 2.5465, 2.5464, 2.5464, 2.5462, 2.5462, 2.5462, 2.5461, 2.546, 2.5458, 2.2653, 2.1573, 1.4109, 0.5797, 0.451, 2.0266]}, \"token.table\": {\"Topic\": [3, 1, 2, 6, 10, 5, 6, 8, 2, 5, 4, 1, 4, 4, 6, 3, 6, 3, 1, 5, 6, 10, 7, 1, 7, 1, 4, 9, 5, 5, 6, 8, 7, 6, 7, 1, 2, 7, 10, 2, 9, 10, 7, 10, 2, 4, 6, 6, 7, 5, 3, 3, 8, 4, 7, 6, 7, 6, 6, 1, 1, 9, 1, 8, 10, 1, 3, 3, 2, 6, 1, 5, 1, 8, 10, 1, 3, 7, 2, 3, 8, 9, 1, 9, 7, 1, 8, 4, 4, 8, 9, 1, 4, 2, 6, 6, 8, 3, 5, 5, 7, 7, 4, 10, 2, 3, 7, 10, 10, 4, 2, 5, 1, 9, 3, 8, 5, 1, 1, 3, 10, 5, 9, 10, 10, 10, 2, 4, 4, 7, 9, 7, 1, 6, 1, 10, 6, 5, 10, 10, 7, 10, 8, 3, 10, 1, 4, 5, 6, 5, 10, 1, 4, 8, 5, 6, 2, 8, 2, 9, 5, 2, 1, 4, 1, 2, 4, 9, 1, 8, 10, 10, 2, 3, 4, 6, 7, 9, 3, 2, 7, 5, 6, 8, 2, 2, 1, 6, 8, 2, 3, 4, 7, 5, 7, 8, 4, 2, 1, 8, 8, 9, 2, 1, 4, 7, 1, 5, 8, 9, 7, 6, 9, 8, 1, 3, 4, 9, 7, 2, 5, 4, 5, 8, 10, 3, 6, 5, 9, 4, 6, 1, 10, 6, 3, 1, 8, 3, 8, 7, 7, 3, 10, 8, 7, 5, 4, 1, 7, 2, 3, 7, 10, 5, 2, 8, 9, 1, 5, 6, 6, 7, 10, 8, 4, 4, 9, 10, 10, 9, 2, 3, 3, 4, 2, 7, 8, 10, 2, 8, 2, 8, 7, 4, 3, 4, 5, 9, 6, 6, 9, 1, 6, 3, 10, 5, 3, 1, 9, 10, 10, 7, 9, 3, 5, 1, 5, 7, 1, 6, 3, 6, 5, 8, 4, 1, 8, 8, 1, 3, 5, 6, 5, 9, 2, 3, 4, 6, 7, 9, 10, 9, 2, 1, 1, 3, 6, 3, 8, 9, 1, 9, 4, 7, 2, 4, 4, 2, 3, 5, 2, 9, 3, 7, 3, 10, 7, 3, 10, 7, 10, 1, 6, 3, 9, 3, 7, 2, 4, 3, 1, 9, 5, 10, 6, 6, 3, 5, 6, 1, 6, 10, 8, 9, 4, 6, 5, 1, 5, 4, 9, 2, 1, 7, 8, 2, 2, 4, 2, 1, 2, 8, 9, 8, 8, 5, 10, 3, 2, 6, 3, 6, 4, 8, 2, 9, 4, 5, 6, 8, 10, 6, 5, 5, 10, 4, 3, 7], \"Freq\": [0.9998463978912192, 0.5605749951612294, 0.214067211266969, 0.1293773212876126, 0.09586174780642047, 0.32119405805292295, 0.6782160247340585, 0.9975443172445023, 0.9993384091937102, 0.9993301000006869, 0.9987594689521218, 0.7528867284810058, 0.24698158720898172, 0.9989223008437239, 0.9983440537531367, 0.9999130820175287, 0.9996958645010836, 0.9987093950801292, 0.24756044654243922, 0.4498725865112164, 0.19839642113067185, 0.10398408914524249, 0.9974264262772153, 0.931261750458737, 0.0685736540752519, 0.9994385955317941, 0.9995456430600357, 0.998091016090365, 0.9980322161095994, 0.2887924114408127, 0.5140958416369642, 0.19685706846964746, 0.9997003268079959, 0.27058942246538176, 0.7281458802785639, 0.24505198631656014, 0.2360944724564248, 0.5185760702599791, 0.9978564911783298, 0.9987938159014041, 0.9999634679353134, 0.999772302411013, 0.9984422732491364, 0.9977790834687427, 0.9994305308498914, 0.9984152291221905, 0.9987797443478548, 0.998767104837889, 0.9990270336145068, 0.9991874961873871, 0.9968799688623698, 0.9975034864958162, 0.9980204424929296, 0.9983216489776903, 0.9989846744413975, 0.9999477801870786, 0.9996828663700016, 0.9997126017086492, 0.9996836496065565, 0.9998694351268016, 0.2783823841075904, 0.719000859615631, 0.3024226970258459, 0.5626229289731685, 0.13456265293318, 0.9992585042203519, 0.9964442655441704, 0.9980130306456853, 0.9961073777480555, 0.9983879185566144, 0.9996448700745311, 0.9997073524723166, 0.9998751913470906, 0.999022021640855, 0.9993252203667427, 0.3919853855559044, 0.6072560481152945, 0.9996106643919351, 0.9986468789348384, 0.9971318727872798, 0.9983975802349293, 0.9992201600264045, 0.999529311373959, 0.9993221559685944, 0.9991839290681089, 0.9990257832367817, 0.9992007243151734, 0.9993684987997452, 0.22123198633977542, 0.7787778152675013, 0.9997275418608733, 0.9993675385313646, 0.9997156279442689, 0.994725736068787, 0.9998107466734306, 0.9996786271435011, 0.9996615127921836, 0.9995707387785132, 0.9995279378661669, 0.9996940025305884, 0.9992250238814177, 0.999479808075504, 0.9996659985129944, 0.9972221560406836, 0.28297889657329567, 0.24960874367550137, 0.14616126969233903, 0.3206871693478032, 0.9988575983307176, 0.999272474882677, 0.9979040522802719, 0.9996561638170431, 0.9989869007543127, 0.9994490079026214, 0.33854055199124455, 0.6613290264298834, 0.9997026384207037, 0.9990117780242753, 0.21874311207440691, 0.6577997995919601, 0.12339355040094749, 0.9996627909308633, 0.9998399178576148, 0.9988918121750565, 0.9965627916747831, 0.9996048019532218, 0.7035430700658094, 0.29558931864635446, 0.9987556591710093, 0.9996276947742576, 0.9986375922379884, 0.9985206160659226, 0.998897896556087, 0.9997310538961373, 0.322827138215188, 0.67649149560317, 0.998903807232819, 0.9996884014573735, 0.9996621268454725, 0.9999287279184529, 0.9989188000513765, 0.998694461657529, 0.9983355297247158, 0.9968822458058091, 0.9979916625027825, 0.13226101604717794, 0.5495718053826745, 0.19878129130862696, 0.11926877478517617, 0.9985688182900154, 0.9993228007390594, 0.999656333439535, 0.9992115552724536, 0.9993259095010707, 0.9993483030952114, 0.9982519054520809, 0.999317306261465, 0.9977576799347144, 0.9997778176690197, 0.9992825570434573, 0.9989341896218202, 0.9989613624339201, 0.8585944525214908, 0.1411133120145902, 0.17364243875642577, 0.1302318290673193, 0.6956550202679307, 0.9967459631348835, 0.17629689842103552, 0.8235268867492621, 0.9977669789804894, 0.998808634957834, 0.11792991434693108, 0.29409682343308735, 0.12957731329477612, 0.10075000089885963, 0.11530924958366594, 0.24226589811517693, 0.9984226606865666, 0.9999116485131129, 0.9995045842722329, 0.2532317450445912, 0.11052791975758103, 0.6359039650052829, 0.9999382767375317, 0.9979217533425546, 0.9994318171214827, 0.9995433489902757, 0.9999038483005196, 0.17091115845922744, 0.5354136291068688, 0.1756361904861413, 0.11812580067284677, 0.9986221461989938, 0.9987045470106098, 0.9989724546014522, 0.9997548347510234, 0.9950041591841936, 0.7543542091210184, 0.2454838400771383, 0.9997905621309353, 0.998410763711105, 0.99686599008968, 0.9992181473199503, 0.9989534285654313, 0.9995467856333721, 0.33397752762472166, 0.4555517780536968, 0.2103937854531189, 0.9990311322575649, 0.9996092958147729, 0.9997699016719509, 0.9978718532343978, 0.9982062608250462, 0.9999203446495166, 0.1900174170577532, 0.7132104029707087, 0.09660852925912927, 0.9979682239714152, 0.998957384611423, 0.9986550417105954, 0.9995636695061952, 0.999550727850896, 0.9991023370393357, 0.9975986446468282, 0.997561465210531, 0.9983506300244985, 0.997630857817859, 0.9990523450030777, 0.9989452226905483, 0.9989131584746794, 0.9991345377257767, 0.9988535340801086, 0.9985906676745024, 0.9975790209803115, 0.9989272948606425, 0.9990075000821972, 0.9999844955460847, 0.9995753990785596, 0.9990758685784501, 0.9996996664467376, 0.40540544955489555, 0.5931301404817929, 0.999958418706795, 0.9989173769583144, 0.9993749321932976, 0.9990786554201266, 0.2887794235357008, 0.7108864438247796, 0.2939345289071766, 0.10974200339133074, 0.44573624284936975, 0.14986793414675123, 0.9998940733240493, 0.9981727427113644, 0.9995391134429134, 0.9989217660786103, 0.10513755581414994, 0.325150239725908, 0.5695774164643076, 0.998084344173169, 0.9995249867637624, 0.997398332617671, 0.9989269060955794, 0.9999803164681907, 0.9997952218290976, 0.9992021944327802, 0.999891657931872, 0.9986583985163543, 0.9938889720385449, 0.9989239646238849, 0.9972419794892633, 0.9991169535618807, 0.9992601714410225, 0.9961995807601726, 0.9999417596972255, 0.24622341444240814, 0.7534718417145067, 0.9978569164953565, 0.9994557814910758, 0.7861309838968478, 0.2129328793592009, 0.999813509703332, 0.9996639550536431, 0.7967929956884949, 0.202340177138561, 0.33478156375714213, 0.6644519586019615, 0.9994166985680448, 0.18772783022213316, 0.8121043705189517, 0.9993634121769138, 0.999312178428651, 0.9970507221411001, 0.9988440780729458, 0.999204105184963, 0.9981351833220542, 0.9990587363307, 0.9986000522006705, 0.9995894612337993, 0.998347554939081, 0.9996051738613178, 0.9961729179193956, 0.9995260945378059, 0.9986542869076878, 0.8947673921031679, 0.10479809866413815, 0.9986426936099914, 0.3720939092172523, 0.6277286339867769, 0.8447740536248801, 0.15487524316456136, 0.9980926672053086, 0.99806953370986, 0.9993856117235183, 0.9997269317727144, 0.9980120265462751, 0.9984240991947199, 0.9994642417408626, 0.9986206707650447, 0.9999746002125958, 0.9983571904580308, 0.9984451556139159, 0.9954943457967289, 0.15605901910632433, 0.07635039352480298, 0.04958330860213596, 0.10756219734606784, 0.3212050190720042, 0.14954009805504748, 0.13966294494705228, 0.9948296559294701, 0.9968748360421137, 0.9997446557440606, 0.9989772690807215, 0.9995226918546842, 0.9982982895596889, 0.9988411325061716, 0.9993805699572046, 0.9972218100366042, 0.9988801427858498, 0.9992689749470017, 0.9993125753981504, 0.9988816176151976, 0.9979142663178064, 0.9994878540724829, 0.9990866725419797, 0.26010817684285015, 0.5652846021485703, 0.17383467264249886, 0.9988563281592292, 0.9968366748218669, 0.5165124695336265, 0.48341464883246454, 0.999638165758008, 0.9980683117109234, 0.9986103973287918, 0.9998369061815583, 0.9976042049309335, 0.8089247320352847, 0.1897598524967899, 0.9996967192817866, 0.9993349873417213, 0.9964750843899383, 0.9962194088067712, 0.1974394724093595, 0.8024900246987019, 0.9983493334234693, 0.9992719762959256, 0.9989044131277823, 0.999897432989132, 0.9998923798629936, 0.998995517597074, 0.9991923308119968, 0.9998934345724507, 0.9993510901182009, 0.9972029064740218, 0.485906915558555, 0.5134416407735397, 0.9993892982726481, 0.9989711135695026, 0.9984923468406881, 0.9984287137202879, 0.9998434282610115, 0.999706594280013, 0.9997938048035072, 0.9995160896917078, 0.9997368091001112, 0.9987177853071432, 0.9998549284922497, 0.9981395079750658, 0.9978221489521089, 0.9988823968444696, 0.9988758460444308, 0.9978077310010258, 0.9991407411922034, 0.9997155161162621, 0.9996036356537035, 0.999985301177863, 0.9995710271720822, 0.9993595729790724, 0.9998807532165263, 0.9999220554615024, 0.9986821087546215, 0.9978504747449469, 0.9995227092541177, 0.9994541278453775, 0.9972771259530692, 0.09634189102478083, 0.9028611501750888, 0.9993625365446697, 0.998692344454175, 0.9991095779327771, 0.9998652495190083, 0.9957874810094494, 0.9996617894417464, 0.193144346212923, 0.12437701472066122, 0.18966874101114806, 0.3699036964746212, 0.12276334087697999, 0.999215130017432, 0.9998065360187586, 0.9997625317858605, 0.999769322313401, 0.9993111555570076, 0.9972300093904184, 0.9992918834845763], \"Term\": [\"\\uac00\\uaca9\", \"\\uac00\\ub2a5\", \"\\uac00\\ub2a5\", \"\\uac00\\ub2a5\", \"\\uac00\\ub2a5\", \"\\uac00\\uc694\", \"\\uac00\\uc694\", \"\\uac00\\uc704\", \"\\uac00\\uc704\\ubc14\\uc704\\ubcf4\", \"\\uac00\\uc785\", \"\\uac00\\uc871\", \"\\uac00\\uc9c0\", \"\\uac00\\uc9c0\", \"\\uac00\\uce58\", \"\\uac04\\uc2dd\", \"\\uac10\\uc0ac\", \"\\uac1c\\uafc0\", \"\\uac1c\\ubc1c\\uc790\", \"\\uac1c\\uc120\", \"\\uac1c\\uc120\", \"\\uac1c\\uc120\", \"\\uac1c\\uc120\", \"\\uac1c\\uc6d4\", \"\\uac1c\\uc778\", \"\\uac1c\\uc778\", \"\\uac2f\\uc218\", \"\\uac70\\uae30\", \"\\uac70\\ub9ac\", \"\\uac74\\uac00\", \"\\uac74\\uac00\\uc694\", \"\\uac74\\uac00\\uc694\", \"\\uac74\\uac00\\uc694\", \"\\uac74\\uac15\", \"\\uac74\\ub370\", \"\\uac74\\ub370\", \"\\uac74\\uc9c0\", \"\\uac74\\uc9c0\", \"\\uac74\\uc9c0\", \"\\uac78\\uae4c\\uc694\", \"\\uac78\\ub85c\", \"\\uac78\\uc74c\", \"\\uac78\\uc74c\\uc218\", \"\\uac81\\ub2c8\\uae4c\", \"\\uac8c\\uc694\", \"\\uac8c\\uc784\", \"\\uacb0\\uacfc\", \"\\uacb0\\uc81c\", \"\\uacbd\\uc6b0\", \"\\uacc4\\uc18d\", \"\\uacc4\\uc815\", \"\\uace0\\ubbfc\", \"\\uacf5\\uc720\", \"\\uacf5\\uc9c0\", \"\\uad00\\ub828\", \"\\uad00\\ub9ac\", \"\\uad11\\uace0\", \"\\uad50\\ud658\", \"\\uad6c\\ub9e4\", \"\\uad8c\\ud2b8\", \"\\uadf8\\uac70\", \"\\uadf8\\uac74\", \"\\uadf8\\uac74\", \"\\uadf8\\uac83\", \"\\uadf8\\uac83\", \"\\uadf8\\uac83\", \"\\uadf8\\uac8c\", \"\\uadf8\\ub0a0\", \"\\uadf8\\ub54c\", \"\\uae00\\uc528\\uccb4\", \"\\uae08\\uc561\", \"\\uae30\\uac04\", \"\\uae30\\uae30\", \"\\uae30\\ub2a5\", \"\\uae30\\ub300\", \"\\uae30\\ub85d\", \"\\uae30\\ubcf8\", \"\\uae30\\ubcf8\", \"\\uae30\\ubd84\", \"\\ub098\\ub984\", \"\\ub098\\uba38\\uc9c0\", \"\\ub098\\uc911\", \"\\ub0b4\\uc694\", \"\\ub0b4\\uc6a9\", \"\\ub178\\ub825\", \"\\ub290\\ub08c\", \"\\ub2e4\\uc591\", \"\\ub2e4\\uc6b4\", \"\\ub2e4\\uc6b4\\ub85c\\ub4dc\", \"\\ub2e4\\uc74c\", \"\\ub2e4\\uc74c\", \"\\ub2e4\\uc774\\uc5b4\\ud2b8\", \"\\ub2e8\\uc704\", \"\\ub2e8\\uc810\", \"\\ub2ec\\uc131\", \"\\ub2f5\\ubcc0\", \"\\ub2f9\\ucca8\", \"\\ub300\\ubc15\", \"\\ub355\\ubd84\", \"\\ub370\\uc774\\ud130\", \"\\ub3c4\\uc6c0\", \"\\ub3c8\\ubc8c\\uc774\", \"\\ub3d9\\uc548\", \"\\ub3d9\\uc601\\uc0c1\", \"\\ub514\\uc790\\uc778\", \"\\ub54c\\ubb38\", \"\\ub54c\\ubb38\", \"\\ub54c\\ubb38\", \"\\ub54c\\ubb38\", \"\\ub77c\\uba74\", \"\\ub79c\\ub364\", \"\\ub85c\\uadf8\\uc544\\uc6c3\", \"\\ub85c\\uadf8\\uc778\", \"\\ub85c\\ub529\", \"\\ub9ac\\ub9ac\", \"\\ub9ac\\ubdf0\", \"\\ub9ac\\ubdf0\", \"\\ub9ac\\uc14b\", \"\\ub9c8\\ub2e4\", \"\\ub9c8\\uc74c\", \"\\ub9c8\\uc74c\", \"\\ub9c8\\uc74c\", \"\\ub9cc\\ubcf4\", \"\\ub9cc\\ubcf4\\uae30\", \"\\ub9cc\\uc694\", \"\\ub9cc\\uc810\", \"\\ub9cc\\uc871\", \"\\ub9cc\\ud07c\", \"\\ub9cc\\ud07c\", \"\\ub9d0\\uc500\", \"\\uba38\\ub2c8\", \"\\uba54\\uc77c\", \"\\uba70\\uce60\", \"\\ubaa9\\ud45c\", \"\\ubb34\\ub8cc\", \"\\ubb34\\uc5c7\", \"\\ubb34\\uc5c7\", \"\\ubb38\\uc790\", \"\\ubb38\\uc81c\", \"\\ubb38\\ud654\", \"\\ubb3c\\uac74\", \"\\ubb54\\uac00\", \"\\ubb54\\uac00\\uc694\", \"\\ubc14\\ub098\\ub098\", \"\\ubc14\\ucf54\\ub4dc\", \"\\ubc15\\uc778\\uc815\", \"\\ubc29\\ubc95\", \"\\ubc29\\ubc95\", \"\\ubc29\\ubc95\", \"\\ubc29\\ubc95\", \"\\ubc29\\uce58\", \"\\ubc30\\uacbd\", \"\\ubc30\\ud130\\ub9ac\", \"\\ubc84\\ub2c8\", \"\\ubc84\\ud2bc\", \"\\ubc88\\ud638\", \"\\ubca0\\ub9ac\", \"\\ubcc4\\uac1c\", \"\\ubcc4\\uc810\", \"\\ubcf4\\ubb3c\", \"\\ubcf4\\uc0c1\", \"\\ubcf5\\uad6c\", \"\\ubcf5\\uad8c\", \"\\ubd80\\ubd84\", \"\\ubd80\\ubd84\", \"\\ubd80\\uc871\", \"\\ubd80\\uc871\", \"\\ubd80\\uc871\", \"\\ubd88\\ub9cc\", \"\\ubd88\\ud3b8\", \"\\ubd88\\ud3b8\", \"\\ube44\\uad50\", \"\\uc0ac\\uae30\", \"\\uc0ac\\ub78c\", \"\\uc0ac\\ub78c\", \"\\uc0ac\\ub78c\", \"\\uc0ac\\ub78c\", \"\\uc0ac\\ub78c\", \"\\uc0ac\\ub78c\", \"\\uc0ac\\ub791\", \"\\uc0ac\\uc6a9\", \"\\uc0ac\\uc9c4\", \"\\uc0ad\\uc81c\", \"\\uc0ad\\uc81c\", \"\\uc0ad\\uc81c\", \"\\uc0c1\\uc790\", \"\\uc0c1\\uc810\", \"\\uc0c1\\ud0dc\", \"\\uc0c1\\ud488\", \"\\uc0c1\\ud488\\uad8c\", \"\\uc0dd\\uac01\", \"\\uc0dd\\uac01\", \"\\uc0dd\\uac01\", \"\\uc0dd\\uac01\", \"\\uc0dd\\ud65c\", \"\\uc11d\\uc870\", \"\\uc120\\ubb3c\", \"\\uc124\\uba85\", \"\\uc124\\uba85\\uc11c\", \"\\uc124\\uc815\", \"\\uc124\\uc815\", \"\\uc124\\uce58\", \"\\uc131\\uacf5\", \"\\uc18c\\uba78\", \"\\uc18c\\ubaa8\", \"\\uc18d\\ub3c4\", \"\\uc1fc\\ud551\", \"\\uc218\\uc815\", \"\\uc218\\uc815\", \"\\uc218\\uc815\", \"\\uc21c\\uc704\", \"\\uc22b\\uc790\", \"\\uc2a4\\ub9c8\\ud2b8\\ud3f0\", \"\\uc2a4\\ud1a0\\uc5b4\", \"\\uc2ac\\ub77c\\uc774\\ub4dc\", \"\\uc2dc\\uac04\", \"\\uc2dc\\uc791\", \"\\uc2dc\\uc791\", \"\\uc2dc\\uc791\", \"\\uc2dd\\ub2e8\", \"\\uc2e0\\uace0\", \"\\uc2e4\\ub9dd\", \"\\uc2e4\\uc218\", \"\\uc2e4\\uc2dc\\uac04\", \"\\uc2e4\\ud589\", \"\\uc2ec\\ud50c\", \"\\uc4f0\\ub808\\uae30\", \"\\uc544\\ubb34\\uac83\", \"\\uc544\\uc774\\ub514\", \"\\uc544\\uc774\\ub514\\uc5b4\", \"\\uc544\\uc774\\uc2a4\\ud06c\\ub9bc\", \"\\uc544\\uc774\\ud15c\", \"\\uc544\\uc774\\ud3f0\", \"\\uc544\\uce68\", \"\\uc548\\ub155\", \"\\uc548\\uc2ec\", \"\\uc54c\\ub78c\", \"\\uc54c\\ub9bc\", \"\\uc560\\ud50c\\ub9ac\\ucf00\\uc774\\uc158\", \"\\uc5b4\\ub514\", \"\\uc5b4\\uc81c\", \"\\uc5bc\\ub9c8\", \"\\uc5c4\\ub9c8\", \"\\uc5c4\\ub9c8\", \"\\uc5c5\\ub370\\uc774\\ud2b8\", \"\\uc5ec\\ub7ec\\ubd84\", \"\\uc5f0\\ub3d9\", \"\\uc601\\uc0c1\", \"\\uc608\\uc804\", \"\\uc608\\uc804\", \"\\uc624\\ub298\", \"\\uc624\\ub298\", \"\\uc624\\ub298\", \"\\uc624\\ub298\", \"\\uc624\\ub958\", \"\\uc624\\ube0c\", \"\\uc640\\uc774\\ud30c\\uc774\", \"\\uc644\\uc804\", \"\\uc694\\uad6c\", \"\\uc694\\uad6c\", \"\\uc694\\uad6c\", \"\\uc694\\uc998\", \"\\uc6a9\\ub3c8\", \"\\uc6b0\\ub9ac\", \"\\uc6b0\\uc720\", \"\\uc6b4\\ub3d9\", \"\\uc6b4\\uc601\", \"\\uc6cc\\ub4dc\", \"\\uc6cc\\ud06c\", \"\\uc6d0\\ub798\", \"\\uc720\\ub3c4\", \"\\uc720\\uc6a9\", \"\\uc740\\uadfc\", \"\\uc74c\\uc2dd\", \"\\uc74c\\uc545\", \"\\uc758\\uacac\", \"\\uc774\\uac70\", \"\\uc774\\uac74\", \"\\uc774\\uac74\", \"\\uc774\\uac78\", \"\\uc774\\uac78\\ub85c\", \"\\uc774\\uac83\", \"\\uc774\\uac83\", \"\\uc774\\uac8c\", \"\\uc774\\ub4dd\", \"\\uc774\\ub984\", \"\\uc774\\ub984\", \"\\uc774\\ubc88\", \"\\uc774\\ubc88\", \"\\uc774\\ubca4\\ud2b8\", \"\\uc774\\uc0c1\", \"\\uc774\\uc0c1\", \"\\uc774\\uc57c\\uae30\", \"\\uc774\\uc720\", \"\\uc774\\uc820\", \"\\uc774\\ud2c0\", \"\\uc774\\ud6c4\", \"\\uc778\\uae30\", \"\\uc778\\uc0c1\", \"\\uc778\\uc2dd\", \"\\uc778\\uc99d\", \"\\uc778\\ud130\\ub137\", \"\\uc77c\\uae30\", \"\\uc77c\\ubd80\", \"\\uc77c\\uc11d\\uc774\\uc870\", \"\\uc77c\\uc2dc\", \"\\uc785\\ub825\", \"\\uc785\\ub825\", \"\\uc790\\uae30\", \"\\uc790\\ub3d9\", \"\\uc790\\ub3d9\", \"\\uc790\\uccb4\", \"\\uc790\\uccb4\", \"\\uc791\\ub3d9\", \"\\uc7a5\\ub09c\", \"\\uc7a5\\uc810\", \"\\uc7ac\\ubbf8\", \"\\uc800\\uae30\", \"\\uc800\\ubc88\", \"\\uc800\\uc7a5\", \"\\uc800\\ud76c\", \"\\uc801\\ub9bd\", \"\\uc801\\ub9bd\\uae08\", \"\\uc804\\uc6d0\", \"\\uc810\\uc218\", \"\\uc815\\ub3c4\", \"\\uc815\\ub3c4\", \"\\uc815\\ub3c4\", \"\\uc815\\ub3c4\", \"\\uc815\\ub3c4\", \"\\uc815\\ub3c4\", \"\\uc815\\ub3c4\", \"\\uc815\\ub9ac\", \"\\uc815\\ub9bd\", \"\\uc815\\ubcf4\", \"\\uc815\\ud655\", \"\\uc81c\\uc791\\uc790\", \"\\uc81c\\ud55c\", \"\\uc870\\uae08\", \"\\uc870\\uc544\", \"\\uc870\\uce58\", \"\\uc885\\ub958\", \"\\uc885\\uc77c\", \"\\uc8fc\\uc138\\uc694\", \"\\uc8fc\\uc77c\", \"\\uc8fc\\uc791\", \"\\uc911\\uac04\", \"\\uc911\\ub3c5\", \"\\uc9c0\\uae08\", \"\\uc9c0\\uae08\", \"\\uc9c0\\uae08\", \"\\uc9c0\\uae09\", \"\\uc9c0\\uc778\", \"\\uc9c4\\uc2ec\", \"\\uc9c4\\uc2ec\", \"\\uc9dc\\uc99d\", \"\\ucc28\\uc774\", \"\\ucc38\\uace0\", \"\\ucc98\\uc74c\", \"\\ucc9c\\ubcf4\", \"\\uccb4\\uc911\", \"\\uccb4\\uc911\", \"\\uccb4\\ud06c\", \"\\ucd08\\ub300\", \"\\ucd08\\ub4f1\\ud559\\uc0dd\", \"\\ucd08\\ubc18\", \"\\ucd5c\\uace0\", \"\\ucd5c\\uace0\", \"\\ucd5c\\ub300\", \"\\ucd5c\\uc2e0\", \"\\ucd5c\\uc545\", \"\\ucd94\\uac00\", \"\\ucd94\\ucc9c\", \"\\ucda9\\uc804\", \"\\uce21\\uc815\", \"\\uce5c\\uad6c\", \"\\uce74\\ub4dc\", \"\\uce74\\uc6b4\\ud2b8\", \"\\uce74\\uce74\\uc624\\ud1a1\", \"\\uce74\\uce74\\uc624\\ud1a1\", \"\\uce7c\\ub85c\\ub9ac\", \"\\ucee4\\ud53c\", \"\\uceec\\uccd0\\ub79c\\ub4dc\", \"\\ucf54\\ub4dc\", \"\\ucf54\\uc778\", \"\\ucf54\\uce6d\", \"\\ucfe0\\ud3f0\", \"\\ud074\\ub9ad\", \"\\ud0c0\\uc784\", \"\\ud0c8\\ud1f4\", \"\\ud130\\uce58\", \"\\ud14c\\ub9c8\", \"\\ud150\\ub370\", \"\\ud1b5\\uacc4\", \"\\ud2f0\\ucf13\", \"\\ud31d\\uc5c5\", \"\\ud3b8\\ub9ac\", \"\\ud3b8\\uc758\\uc810\", \"\\ud3c9\\uc18c\", \"\\ud3ec\\uc778\\ud2b8\", \"\\ud45c\\uc2dc\", \"\\ud544\\uc694\", \"\\ud558\\ub098\", \"\\ud558\\ub8e8\", \"\\ud559\\uad50\", \"\\ud559\\uc0dd\", \"\\ud574\\uacb0\", \"\\ud574\\ud53c\", \"\\ud589\\ubcf5\", \"\\ud604\\uae08\", \"\\ud604\\uae08\", \"\\ud604\\uc9c8\", \"\\ud61c\\ud0dd\", \"\\ud63c\\uc790\", \"\\ud654\\uba74\", \"\\ud654\\uc774\\ud305\", \"\\ud655\\ub960\", \"\\ud655\\uc778\", \"\\ud655\\uc778\", \"\\ud655\\uc778\", \"\\ud655\\uc778\", \"\\ud655\\uc778\", \"\\ud658\\ubd88\", \"\\ud68c\\uc6d0\", \"\\ud68c\\uc6d0\\uac00\\uc785\", \"\\ud68d\\ub4dd\", \"\\ud6a8\\uacfc\", \"\\ud6c4\\ud68c\", \"\\ud734\\ub300\\ud3f0\"]}, \"R\": 30, \"lambda.step\": 0.01, \"plot.opts\": {\"xlab\": \"PC1\", \"ylab\": \"PC2\"}, \"topic.order\": [10, 3, 6, 9, 8, 4, 1, 2, 5, 7]};\n",
       "\n",
       "function LDAvis_load_lib(url, callback){\n",
       "  var s = document.createElement('script');\n",
       "  s.src = url;\n",
       "  s.async = true;\n",
       "  s.onreadystatechange = s.onload = callback;\n",
       "  s.onerror = function(){console.warn(\"failed to load library \" + url);};\n",
       "  document.getElementsByTagName(\"head\")[0].appendChild(s);\n",
       "}\n",
       "\n",
       "if(typeof(LDAvis) !== \"undefined\"){\n",
       "   // already loaded: just create the visualization\n",
       "   !function(LDAvis){\n",
       "       new LDAvis(\"#\" + \"ldavis_el2411140370798317232377082911\", ldavis_el2411140370798317232377082911_data);\n",
       "   }(LDAvis);\n",
       "}else if(typeof define === \"function\" && define.amd){\n",
       "   // require.js is available: use it to load d3/LDAvis\n",
       "   require.config({paths: {d3: \"https://d3js.org/d3.v5\"}});\n",
       "   require([\"d3\"], function(d3){\n",
       "      window.d3 = d3;\n",
       "      LDAvis_load_lib(\"https://cdn.jsdelivr.net/gh/bmabey/pyLDAvis@3.3.1/pyLDAvis/js/ldavis.v3.0.0.js\", function(){\n",
       "        new LDAvis(\"#\" + \"ldavis_el2411140370798317232377082911\", ldavis_el2411140370798317232377082911_data);\n",
       "      });\n",
       "    });\n",
       "}else{\n",
       "    // require.js not available: dynamically load d3 & LDAvis\n",
       "    LDAvis_load_lib(\"https://d3js.org/d3.v5.js\", function(){\n",
       "         LDAvis_load_lib(\"https://cdn.jsdelivr.net/gh/bmabey/pyLDAvis@3.3.1/pyLDAvis/js/ldavis.v3.0.0.js\", function(){\n",
       "                 new LDAvis(\"#\" + \"ldavis_el2411140370798317232377082911\", ldavis_el2411140370798317232377082911_data);\n",
       "            })\n",
       "         });\n",
       "}\n",
       "</script>"
      ],
      "text/plain": [
       "<IPython.core.display.HTML object>"
      ]
     },
     "execution_count": 122,
     "metadata": {},
     "output_type": "execute_result"
    }
   ],
   "source": [
    "# 주피터 노트북 내 시각화\n",
    "pyLDAvis.enable_notebook()\n",
    "result_visualized = pyLDAvis.gensim_models.prepare(model, corpus, dictionary)\n",
    "pyLDAvis.display(result_visualized)"
   ]
  },
  {
   "cell_type": "code",
   "execution_count": 123,
   "metadata": {},
   "outputs": [
    {
     "name": "stderr",
     "output_type": "stream",
     "text": [
      "/Users/gbpark/.local/share/virtualenvs/mHealthapp-review-analysis1-rzGFRNeI/lib/python3.8/site-packages/past/builtins/misc.py:45: DeprecationWarning: the imp module is deprecated in favour of importlib; see the module's documentation for alternative uses\n",
      "  from imp import reload\n",
      "/Users/gbpark/.local/share/virtualenvs/mHealthapp-review-analysis1-rzGFRNeI/lib/python3.8/site-packages/joblib/backports.py:36: DeprecationWarning: distutils Version classes are deprecated. Use packaging.version instead.\n",
      "  if LooseVersion(np.__version__) < '1.13':\n",
      "/Users/gbpark/.local/share/virtualenvs/mHealthapp-review-analysis1-rzGFRNeI/lib/python3.8/site-packages/setuptools/_distutils/version.py:351: DeprecationWarning: distutils Version classes are deprecated. Use packaging.version instead.\n",
      "  other = LooseVersion(other)\n",
      "/Users/gbpark/.local/share/virtualenvs/mHealthapp-review-analysis1-rzGFRNeI/lib/python3.8/site-packages/joblib/backports.py:36: DeprecationWarning: distutils Version classes are deprecated. Use packaging.version instead.\n",
      "  if LooseVersion(np.__version__) < '1.13':\n",
      "/Users/gbpark/.local/share/virtualenvs/mHealthapp-review-analysis1-rzGFRNeI/lib/python3.8/site-packages/setuptools/_distutils/version.py:351: DeprecationWarning: distutils Version classes are deprecated. Use packaging.version instead.\n",
      "  other = LooseVersion(other)\n",
      "/Users/gbpark/.local/share/virtualenvs/mHealthapp-review-analysis1-rzGFRNeI/lib/python3.8/site-packages/past/builtins/misc.py:45: DeprecationWarning: the imp module is deprecated in favour of importlib; see the module's documentation for alternative uses\n",
      "  from imp import reload\n",
      "/Users/gbpark/.local/share/virtualenvs/mHealthapp-review-analysis1-rzGFRNeI/lib/python3.8/site-packages/joblib/backports.py:36: DeprecationWarning: distutils Version classes are deprecated. Use packaging.version instead.\n",
      "  if LooseVersion(np.__version__) < '1.13':\n",
      "/Users/gbpark/.local/share/virtualenvs/mHealthapp-review-analysis1-rzGFRNeI/lib/python3.8/site-packages/setuptools/_distutils/version.py:351: DeprecationWarning: distutils Version classes are deprecated. Use packaging.version instead.\n",
      "  other = LooseVersion(other)\n",
      "/Users/gbpark/.local/share/virtualenvs/mHealthapp-review-analysis1-rzGFRNeI/lib/python3.8/site-packages/joblib/backports.py:36: DeprecationWarning: distutils Version classes are deprecated. Use packaging.version instead.\n",
      "  if LooseVersion(np.__version__) < '1.13':\n",
      "/Users/gbpark/.local/share/virtualenvs/mHealthapp-review-analysis1-rzGFRNeI/lib/python3.8/site-packages/setuptools/_distutils/version.py:351: DeprecationWarning: distutils Version classes are deprecated. Use packaging.version instead.\n",
      "  other = LooseVersion(other)\n",
      "/Users/gbpark/.local/share/virtualenvs/mHealthapp-review-analysis1-rzGFRNeI/lib/python3.8/site-packages/past/builtins/misc.py:45: DeprecationWarning: the imp module is deprecated in favour of importlib; see the module's documentation for alternative uses\n",
      "  from imp import reload\n",
      "/Users/gbpark/.local/share/virtualenvs/mHealthapp-review-analysis1-rzGFRNeI/lib/python3.8/site-packages/joblib/backports.py:36: DeprecationWarning: distutils Version classes are deprecated. Use packaging.version instead.\n",
      "  if LooseVersion(np.__version__) < '1.13':\n",
      "/Users/gbpark/.local/share/virtualenvs/mHealthapp-review-analysis1-rzGFRNeI/lib/python3.8/site-packages/setuptools/_distutils/version.py:351: DeprecationWarning: distutils Version classes are deprecated. Use packaging.version instead.\n",
      "  other = LooseVersion(other)\n",
      "/Users/gbpark/.local/share/virtualenvs/mHealthapp-review-analysis1-rzGFRNeI/lib/python3.8/site-packages/joblib/backports.py:36: DeprecationWarning: distutils Version classes are deprecated. Use packaging.version instead.\n",
      "  if LooseVersion(np.__version__) < '1.13':\n",
      "/Users/gbpark/.local/share/virtualenvs/mHealthapp-review-analysis1-rzGFRNeI/lib/python3.8/site-packages/setuptools/_distutils/version.py:351: DeprecationWarning: distutils Version classes are deprecated. Use packaging.version instead.\n",
      "  other = LooseVersion(other)\n",
      "/Users/gbpark/.local/share/virtualenvs/mHealthapp-review-analysis1-rzGFRNeI/lib/python3.8/site-packages/past/builtins/misc.py:45: DeprecationWarning: the imp module is deprecated in favour of importlib; see the module's documentation for alternative uses\n",
      "  from imp import reload\n",
      "/Users/gbpark/.local/share/virtualenvs/mHealthapp-review-analysis1-rzGFRNeI/lib/python3.8/site-packages/joblib/backports.py:36: DeprecationWarning: distutils Version classes are deprecated. Use packaging.version instead.\n",
      "  if LooseVersion(np.__version__) < '1.13':\n",
      "/Users/gbpark/.local/share/virtualenvs/mHealthapp-review-analysis1-rzGFRNeI/lib/python3.8/site-packages/setuptools/_distutils/version.py:351: DeprecationWarning: distutils Version classes are deprecated. Use packaging.version instead.\n",
      "  other = LooseVersion(other)\n",
      "/Users/gbpark/.local/share/virtualenvs/mHealthapp-review-analysis1-rzGFRNeI/lib/python3.8/site-packages/joblib/backports.py:36: DeprecationWarning: distutils Version classes are deprecated. Use packaging.version instead.\n",
      "  if LooseVersion(np.__version__) < '1.13':\n",
      "/Users/gbpark/.local/share/virtualenvs/mHealthapp-review-analysis1-rzGFRNeI/lib/python3.8/site-packages/setuptools/_distutils/version.py:351: DeprecationWarning: distutils Version classes are deprecated. Use packaging.version instead.\n",
      "  other = LooseVersion(other)\n",
      "/Users/gbpark/.local/share/virtualenvs/mHealthapp-review-analysis1-rzGFRNeI/lib/python3.8/site-packages/past/builtins/misc.py:45: DeprecationWarning: the imp module is deprecated in favour of importlib; see the module's documentation for alternative uses\n",
      "  from imp import reload\n",
      "/Users/gbpark/.local/share/virtualenvs/mHealthapp-review-analysis1-rzGFRNeI/lib/python3.8/site-packages/joblib/backports.py:36: DeprecationWarning: distutils Version classes are deprecated. Use packaging.version instead.\n",
      "  if LooseVersion(np.__version__) < '1.13':\n",
      "/Users/gbpark/.local/share/virtualenvs/mHealthapp-review-analysis1-rzGFRNeI/lib/python3.8/site-packages/setuptools/_distutils/version.py:351: DeprecationWarning: distutils Version classes are deprecated. Use packaging.version instead.\n",
      "  other = LooseVersion(other)\n",
      "/Users/gbpark/.local/share/virtualenvs/mHealthapp-review-analysis1-rzGFRNeI/lib/python3.8/site-packages/joblib/backports.py:36: DeprecationWarning: distutils Version classes are deprecated. Use packaging.version instead.\n",
      "  if LooseVersion(np.__version__) < '1.13':\n",
      "/Users/gbpark/.local/share/virtualenvs/mHealthapp-review-analysis1-rzGFRNeI/lib/python3.8/site-packages/setuptools/_distutils/version.py:351: DeprecationWarning: distutils Version classes are deprecated. Use packaging.version instead.\n",
      "  other = LooseVersion(other)\n",
      "/Users/gbpark/.local/share/virtualenvs/mHealthapp-review-analysis1-rzGFRNeI/lib/python3.8/site-packages/past/builtins/misc.py:45: DeprecationWarning: the imp module is deprecated in favour of importlib; see the module's documentation for alternative uses\n",
      "  from imp import reload\n",
      "/Users/gbpark/.local/share/virtualenvs/mHealthapp-review-analysis1-rzGFRNeI/lib/python3.8/site-packages/joblib/backports.py:36: DeprecationWarning: distutils Version classes are deprecated. Use packaging.version instead.\n",
      "  if LooseVersion(np.__version__) < '1.13':\n",
      "/Users/gbpark/.local/share/virtualenvs/mHealthapp-review-analysis1-rzGFRNeI/lib/python3.8/site-packages/setuptools/_distutils/version.py:351: DeprecationWarning: distutils Version classes are deprecated. Use packaging.version instead.\n",
      "  other = LooseVersion(other)\n",
      "/Users/gbpark/.local/share/virtualenvs/mHealthapp-review-analysis1-rzGFRNeI/lib/python3.8/site-packages/joblib/backports.py:36: DeprecationWarning: distutils Version classes are deprecated. Use packaging.version instead.\n",
      "  if LooseVersion(np.__version__) < '1.13':\n",
      "/Users/gbpark/.local/share/virtualenvs/mHealthapp-review-analysis1-rzGFRNeI/lib/python3.8/site-packages/setuptools/_distutils/version.py:351: DeprecationWarning: distutils Version classes are deprecated. Use packaging.version instead.\n",
      "  other = LooseVersion(other)\n",
      "/Users/gbpark/.local/share/virtualenvs/mHealthapp-review-analysis1-rzGFRNeI/lib/python3.8/site-packages/past/builtins/misc.py:45: DeprecationWarning: the imp module is deprecated in favour of importlib; see the module's documentation for alternative uses\n",
      "  from imp import reload\n",
      "/Users/gbpark/.local/share/virtualenvs/mHealthapp-review-analysis1-rzGFRNeI/lib/python3.8/site-packages/joblib/backports.py:36: DeprecationWarning: distutils Version classes are deprecated. Use packaging.version instead.\n",
      "  if LooseVersion(np.__version__) < '1.13':\n",
      "/Users/gbpark/.local/share/virtualenvs/mHealthapp-review-analysis1-rzGFRNeI/lib/python3.8/site-packages/setuptools/_distutils/version.py:351: DeprecationWarning: distutils Version classes are deprecated. Use packaging.version instead.\n",
      "  other = LooseVersion(other)\n",
      "/Users/gbpark/.local/share/virtualenvs/mHealthapp-review-analysis1-rzGFRNeI/lib/python3.8/site-packages/joblib/backports.py:36: DeprecationWarning: distutils Version classes are deprecated. Use packaging.version instead.\n",
      "  if LooseVersion(np.__version__) < '1.13':\n",
      "/Users/gbpark/.local/share/virtualenvs/mHealthapp-review-analysis1-rzGFRNeI/lib/python3.8/site-packages/setuptools/_distutils/version.py:351: DeprecationWarning: distutils Version classes are deprecated. Use packaging.version instead.\n",
      "  other = LooseVersion(other)\n"
     ]
    },
    {
     "name": "stderr",
     "output_type": "stream",
     "text": [
      "/Users/gbpark/.local/share/virtualenvs/mHealthapp-review-analysis1-rzGFRNeI/lib/python3.8/site-packages/past/builtins/misc.py:45: DeprecationWarning: the imp module is deprecated in favour of importlib; see the module's documentation for alternative uses\n",
      "  from imp import reload\n",
      "/Users/gbpark/.local/share/virtualenvs/mHealthapp-review-analysis1-rzGFRNeI/lib/python3.8/site-packages/joblib/backports.py:36: DeprecationWarning: distutils Version classes are deprecated. Use packaging.version instead.\n",
      "  if LooseVersion(np.__version__) < '1.13':\n",
      "/Users/gbpark/.local/share/virtualenvs/mHealthapp-review-analysis1-rzGFRNeI/lib/python3.8/site-packages/setuptools/_distutils/version.py:351: DeprecationWarning: distutils Version classes are deprecated. Use packaging.version instead.\n",
      "  other = LooseVersion(other)\n",
      "/Users/gbpark/.local/share/virtualenvs/mHealthapp-review-analysis1-rzGFRNeI/lib/python3.8/site-packages/joblib/backports.py:36: DeprecationWarning: distutils Version classes are deprecated. Use packaging.version instead.\n",
      "  if LooseVersion(np.__version__) < '1.13':\n",
      "/Users/gbpark/.local/share/virtualenvs/mHealthapp-review-analysis1-rzGFRNeI/lib/python3.8/site-packages/setuptools/_distutils/version.py:351: DeprecationWarning: distutils Version classes are deprecated. Use packaging.version instead.\n",
      "  other = LooseVersion(other)\n"
     ]
    }
   ],
   "source": [
    "# 시각화 자료 로컬 내 저장\n",
    "RESULT_FILE = './result/lda_result.html'\n",
    "pyLDAvis.save_html(result_visualized, RESULT_FILE)"
   ]
  }
 ],
 "metadata": {
  "kernelspec": {
   "display_name": "mhealthapp1",
   "language": "python",
   "name": "mhealthapp1"
  },
  "language_info": {
   "codemirror_mode": {
    "name": "ipython",
    "version": 3
   },
   "file_extension": ".py",
   "mimetype": "text/x-python",
   "name": "python",
   "nbconvert_exporter": "python",
   "pygments_lexer": "ipython3",
   "version": "3.8.1"
  }
 },
 "nbformat": 4,
 "nbformat_minor": 4
}
