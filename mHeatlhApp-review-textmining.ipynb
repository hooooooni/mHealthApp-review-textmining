{
 "cells": [
  {
   "cell_type": "markdown",
   "metadata": {},
   "source": [
    "# 건강관리 앱 리뷰 텍스트마이닝 기반 디자인 전략 연구: LDA 토픽 모델링을 중심으로\n",
    "#### 👨‍💻 Author: Gyeongbin Park(a.k.a., Tony Park)\n",
    "  - 📬 Contact: dev.gbpark@gmail.com\n",
    "  - 🔗 Github: https://github.com/park-gb/mHealthApp-review-textmining\n",
    "  - 📝 Blog: https://heytech.tistory.com/\n",
    "  \n",
    "Last Updated @2022-06-07"
   ]
  },
  {
   "cell_type": "markdown",
   "metadata": {},
   "source": [
    "# 패키지 설치"
   ]
  },
  {
   "cell_type": "markdown",
   "metadata": {},
   "source": [
    "1) 가상환경\n",
    "- 가상환경 pipenv 사용 시 아래 명령어를 통해 모든 필요 패키지 설치 가능\n",
    "    - pipenv install\n",
    "\n",
    "2) KoNLPy Mecab 설치방법\n",
    "- 명령어\n",
    "    - bash <(curl -s https://raw.githubusercontent.com/konlpy/konlpy/master/scripts/mecab.sh)\n",
    "- 설치 오류 시 해결방법: https://heytech.tistory.com/395?category=453616"
   ]
  },
  {
   "cell_type": "markdown",
   "metadata": {},
   "source": [
    "# 패키지 import"
   ]
  },
  {
   "cell_type": "code",
   "execution_count": 1,
   "metadata": {
    "scrolled": true
   },
   "outputs": [],
   "source": [
    "import numpy as np\n",
    "import pandas as pd\n",
    "import warnings # 경고 메시지 무시\n",
    "warnings.filterwarnings(action='ignore')\n",
    "# 한국어 형태소 분석기 중 성능이 가장 우수한 Mecab 사용\n",
    "from konlpy.tag import Mecab\n",
    "mecab = Mecab()\n",
    "from tqdm import tqdm # 작업 프로세스 시각화\n",
    "import re # 문자열 처리를 위한 정규표현식 패키지\n",
    "from gensim import corpora # 단어 빈도수 계산 패키지\n",
    "import gensim # LDA 모델 활용 목적\n",
    "import pyLDAvis.gensim_models # LDA 시각화용 패키지\n",
    "from collections import Counter # 단어 등장 횟수 카운트"
   ]
  },
  {
   "cell_type": "markdown",
   "metadata": {},
   "source": [
    "# 데이터셋 load"
   ]
  },
  {
   "cell_type": "code",
   "execution_count": 2,
   "metadata": {
    "scrolled": true
   },
   "outputs": [
    {
     "data": {
      "text/html": [
       "<div>\n",
       "<style scoped>\n",
       "    .dataframe tbody tr th:only-of-type {\n",
       "        vertical-align: middle;\n",
       "    }\n",
       "\n",
       "    .dataframe tbody tr th {\n",
       "        vertical-align: top;\n",
       "    }\n",
       "\n",
       "    .dataframe thead th {\n",
       "        text-align: right;\n",
       "    }\n",
       "</style>\n",
       "<table border=\"1\" class=\"dataframe\">\n",
       "  <thead>\n",
       "    <tr style=\"text-align: right;\">\n",
       "      <th></th>\n",
       "      <th>app</th>\n",
       "      <th>review</th>\n",
       "      <th>rating</th>\n",
       "    </tr>\n",
       "  </thead>\n",
       "  <tbody>\n",
       "    <tr>\n",
       "      <th>0</th>\n",
       "      <td>다리 근육 운동 – 4주 프로그램</td>\n",
       "      <td>다른 P4P어플과 연동 하면 기존에 있던 스케쥴이 싹 사라짐</td>\n",
       "      <td>1</td>\n",
       "    </tr>\n",
       "    <tr>\n",
       "      <th>1</th>\n",
       "      <td>다리 근육 운동 – 4주 프로그램</td>\n",
       "      <td>굿</td>\n",
       "      <td>5</td>\n",
       "    </tr>\n",
       "    <tr>\n",
       "      <th>2</th>\n",
       "      <td>다리 근육 운동 – 4주 프로그램</td>\n",
       "      <td>최고입니디</td>\n",
       "      <td>5</td>\n",
       "    </tr>\n",
       "    <tr>\n",
       "      <th>3</th>\n",
       "      <td>다리 근육 운동 – 4주 프로그램</td>\n",
       "      <td>아무곳에서나 보고 억지로라도 운동할수 있어서 너무 좋습니다. 감사히 잘 쓸께요.😂</td>\n",
       "      <td>5</td>\n",
       "    </tr>\n",
       "    <tr>\n",
       "      <th>4</th>\n",
       "      <td>다리 근육 운동 – 4주 프로그램</td>\n",
       "      <td>ᆞ</td>\n",
       "      <td>5</td>\n",
       "    </tr>\n",
       "  </tbody>\n",
       "</table>\n",
       "</div>"
      ],
      "text/plain": [
       "                  app                                         review  rating\n",
       "0  다리 근육 운동 – 4주 프로그램              다른 P4P어플과 연동 하면 기존에 있던 스케쥴이 싹 사라짐       1\n",
       "1  다리 근육 운동 – 4주 프로그램                                              굿       5\n",
       "2  다리 근육 운동 – 4주 프로그램                                          최고입니디       5\n",
       "3  다리 근육 운동 – 4주 프로그램  아무곳에서나 보고 억지로라도 운동할수 있어서 너무 좋습니다. 감사히 잘 쓸께요.😂       5\n",
       "4  다리 근육 운동 – 4주 프로그램                                              ᆞ       5"
      ]
     },
     "execution_count": 2,
     "metadata": {},
     "output_type": "execute_result"
    }
   ],
   "source": [
    "dataset_raw = pd.read_excel('./data/dataset_raw.xlsx')\n",
    "dataset_raw.head()"
   ]
  },
  {
   "cell_type": "markdown",
   "metadata": {},
   "source": [
    "# 데이터 탐색\n",
    "- 데이터셋에서 전반적으로 결측치 존재여부, 데이터 타입, 데이터 개수를 확인합니다."
   ]
  },
  {
   "cell_type": "code",
   "execution_count": 3,
   "metadata": {},
   "outputs": [
    {
     "name": "stdout",
     "output_type": "stream",
     "text": [
      "<class 'pandas.core.frame.DataFrame'>\n",
      "RangeIndex: 540076 entries, 0 to 540075\n",
      "Data columns (total 3 columns):\n",
      " #   Column  Non-Null Count   Dtype \n",
      "---  ------  --------------   ----- \n",
      " 0   app     540076 non-null  object\n",
      " 1   review  540074 non-null  object\n",
      " 2   rating  540076 non-null  int64 \n",
      "dtypes: int64(1), object(2)\n",
      "memory usage: 12.4+ MB\n"
     ]
    }
   ],
   "source": [
    "dataset_raw.info() "
   ]
  },
  {
   "cell_type": "markdown",
   "metadata": {},
   "source": [
    "# 데이터 전처리"
   ]
  },
  {
   "cell_type": "markdown",
   "metadata": {},
   "source": [
    "## 결측치 확인"
   ]
  },
  {
   "cell_type": "code",
   "execution_count": 4,
   "metadata": {},
   "outputs": [
    {
     "data": {
      "text/plain": [
       "app       0\n",
       "review    2\n",
       "rating    0\n",
       "dtype: int64"
      ]
     },
     "execution_count": 4,
     "metadata": {},
     "output_type": "execute_result"
    }
   ],
   "source": [
    "dataset_raw.isnull().sum()"
   ]
  },
  {
   "cell_type": "markdown",
   "metadata": {},
   "source": [
    "## 결측치 제거"
   ]
  },
  {
   "cell_type": "code",
   "execution_count": 5,
   "metadata": {},
   "outputs": [
    {
     "data": {
      "text/plain": [
       "app       0\n",
       "review    0\n",
       "rating    0\n",
       "dtype: int64"
      ]
     },
     "execution_count": 5,
     "metadata": {},
     "output_type": "execute_result"
    }
   ],
   "source": [
    "# axis = 0: 결측치 포함한 모든 행 제거\n",
    "dataset = dataset_raw.dropna(axis = 0)\n",
    "dataset.isnull().sum()"
   ]
  },
  {
   "cell_type": "markdown",
   "metadata": {},
   "source": [
    "## 분석에서 제외할 앱 리뷰 삭제"
   ]
  },
  {
   "cell_type": "code",
   "execution_count": 6,
   "metadata": {},
   "outputs": [
    {
     "data": {
      "text/html": [
       "<div>\n",
       "<style scoped>\n",
       "    .dataframe tbody tr th:only-of-type {\n",
       "        vertical-align: middle;\n",
       "    }\n",
       "\n",
       "    .dataframe tbody tr th {\n",
       "        vertical-align: top;\n",
       "    }\n",
       "\n",
       "    .dataframe thead th {\n",
       "        text-align: right;\n",
       "    }\n",
       "</style>\n",
       "<table border=\"1\" class=\"dataframe\">\n",
       "  <thead>\n",
       "    <tr style=\"text-align: right;\">\n",
       "      <th></th>\n",
       "      <th>app</th>\n",
       "    </tr>\n",
       "  </thead>\n",
       "  <tbody>\n",
       "    <tr>\n",
       "      <th>0</th>\n",
       "      <td>캐시슬라이드 스텝업 - 걸음에 포인트를 더하다</td>\n",
       "    </tr>\n",
       "    <tr>\n",
       "      <th>1</th>\n",
       "      <td>만보기 - 걸음 계산기</td>\n",
       "    </tr>\n",
       "    <tr>\n",
       "      <th>2</th>\n",
       "      <td>딱 1주일 다이어트 습관 : 요요없는 건강한 다이어트</td>\n",
       "    </tr>\n",
       "    <tr>\n",
       "      <th>3</th>\n",
       "      <td>타임캐시 – 돈버는 어플</td>\n",
       "    </tr>\n",
       "    <tr>\n",
       "      <th>4</th>\n",
       "      <td>돈버는어플 - 캐시런</td>\n",
       "    </tr>\n",
       "  </tbody>\n",
       "</table>\n",
       "</div>"
      ],
      "text/plain": [
       "                             app\n",
       "0      캐시슬라이드 스텝업 - 걸음에 포인트를 더하다\n",
       "1                   만보기 - 걸음 계산기\n",
       "2  딱 1주일 다이어트 습관 : 요요없는 건강한 다이어트\n",
       "3                  타임캐시 – 돈버는 어플\n",
       "4                    돈버는어플 - 캐시런"
      ]
     },
     "execution_count": 6,
     "metadata": {},
     "output_type": "execute_result"
    }
   ],
   "source": [
    "# 제외할 앱 리스트 Load\n",
    "remove_app_list = pd.read_excel('./data/remove_app_list.xlsx')\n",
    "remove_app_list.head()"
   ]
  },
  {
   "cell_type": "code",
   "execution_count": 7,
   "metadata": {},
   "outputs": [],
   "source": [
    "for remove_app in remove_app_list['app']:\n",
    "    try:\n",
    "        dataset = dataset[dataset['app'] != remove_app]\n",
    "    except:\n",
    "        pass"
   ]
  },
  {
   "cell_type": "code",
   "execution_count": 8,
   "metadata": {},
   "outputs": [],
   "source": [
    "dataset.reset_index(drop = True, inplace=True)"
   ]
  },
  {
   "cell_type": "code",
   "execution_count": 9,
   "metadata": {},
   "outputs": [
    {
     "data": {
      "text/html": [
       "<div>\n",
       "<style scoped>\n",
       "    .dataframe tbody tr th:only-of-type {\n",
       "        vertical-align: middle;\n",
       "    }\n",
       "\n",
       "    .dataframe tbody tr th {\n",
       "        vertical-align: top;\n",
       "    }\n",
       "\n",
       "    .dataframe thead th {\n",
       "        text-align: right;\n",
       "    }\n",
       "</style>\n",
       "<table border=\"1\" class=\"dataframe\">\n",
       "  <thead>\n",
       "    <tr style=\"text-align: right;\">\n",
       "      <th></th>\n",
       "      <th>app</th>\n",
       "      <th>review</th>\n",
       "      <th>rating</th>\n",
       "    </tr>\n",
       "  </thead>\n",
       "  <tbody>\n",
       "    <tr>\n",
       "      <th>0</th>\n",
       "      <td>다리 근육 운동 – 4주 프로그램</td>\n",
       "      <td>다른 P4P어플과 연동 하면 기존에 있던 스케쥴이 싹 사라짐</td>\n",
       "      <td>1</td>\n",
       "    </tr>\n",
       "    <tr>\n",
       "      <th>1</th>\n",
       "      <td>다리 근육 운동 – 4주 프로그램</td>\n",
       "      <td>굿</td>\n",
       "      <td>5</td>\n",
       "    </tr>\n",
       "    <tr>\n",
       "      <th>2</th>\n",
       "      <td>다리 근육 운동 – 4주 프로그램</td>\n",
       "      <td>최고입니디</td>\n",
       "      <td>5</td>\n",
       "    </tr>\n",
       "    <tr>\n",
       "      <th>3</th>\n",
       "      <td>다리 근육 운동 – 4주 프로그램</td>\n",
       "      <td>아무곳에서나 보고 억지로라도 운동할수 있어서 너무 좋습니다. 감사히 잘 쓸께요.😂</td>\n",
       "      <td>5</td>\n",
       "    </tr>\n",
       "    <tr>\n",
       "      <th>4</th>\n",
       "      <td>다리 근육 운동 – 4주 프로그램</td>\n",
       "      <td>ᆞ</td>\n",
       "      <td>5</td>\n",
       "    </tr>\n",
       "    <tr>\n",
       "      <th>...</th>\n",
       "      <td>...</td>\n",
       "      <td>...</td>\n",
       "      <td>...</td>\n",
       "    </tr>\n",
       "    <tr>\n",
       "      <th>264064</th>\n",
       "      <td>코인스텝 - 돈버는 만보기, 건강과 캐시를 동시에 챙기자~</td>\n",
       "      <td>설치하고 로그인 하니 HTTP 500 Internal server error 가 뜨...</td>\n",
       "      <td>2</td>\n",
       "    </tr>\n",
       "    <tr>\n",
       "      <th>264065</th>\n",
       "      <td>코인스텝 - 돈버는 만보기, 건강과 캐시를 동시에 챙기자~</td>\n",
       "      <td>위젯도 만들어주면 좋은데...... 제가 다른 걷기 위젯으로 사용 하는 앱이 있는데...</td>\n",
       "      <td>3</td>\n",
       "    </tr>\n",
       "    <tr>\n",
       "      <th>264066</th>\n",
       "      <td>코인스텝 - 돈버는 만보기, 건강과 캐시를 동시에 챙기자~</td>\n",
       "      <td>이거 erc223 기반이라는데 토큰이 현매 이더리움위에 올라가져 있나요?</td>\n",
       "      <td>5</td>\n",
       "    </tr>\n",
       "    <tr>\n",
       "      <th>264067</th>\n",
       "      <td>코인스텝 - 돈버는 만보기, 건강과 캐시를 동시에 챙기자~</td>\n",
       "      <td>좋은 만보기네요</td>\n",
       "      <td>5</td>\n",
       "    </tr>\n",
       "    <tr>\n",
       "      <th>264068</th>\n",
       "      <td>코인스텝 - 돈버는 만보기, 건강과 캐시를 동시에 챙기자~</td>\n",
       "      <td>좋군요~디자인이 예쁘네요~</td>\n",
       "      <td>5</td>\n",
       "    </tr>\n",
       "  </tbody>\n",
       "</table>\n",
       "<p>264069 rows × 3 columns</p>\n",
       "</div>"
      ],
      "text/plain": [
       "                                     app  \\\n",
       "0                     다리 근육 운동 – 4주 프로그램   \n",
       "1                     다리 근육 운동 – 4주 프로그램   \n",
       "2                     다리 근육 운동 – 4주 프로그램   \n",
       "3                     다리 근육 운동 – 4주 프로그램   \n",
       "4                     다리 근육 운동 – 4주 프로그램   \n",
       "...                                  ...   \n",
       "264064  코인스텝 - 돈버는 만보기, 건강과 캐시를 동시에 챙기자~   \n",
       "264065  코인스텝 - 돈버는 만보기, 건강과 캐시를 동시에 챙기자~   \n",
       "264066  코인스텝 - 돈버는 만보기, 건강과 캐시를 동시에 챙기자~   \n",
       "264067  코인스텝 - 돈버는 만보기, 건강과 캐시를 동시에 챙기자~   \n",
       "264068  코인스텝 - 돈버는 만보기, 건강과 캐시를 동시에 챙기자~   \n",
       "\n",
       "                                                   review  rating  \n",
       "0                       다른 P4P어플과 연동 하면 기존에 있던 스케쥴이 싹 사라짐       1  \n",
       "1                                                       굿       5  \n",
       "2                                                   최고입니디       5  \n",
       "3           아무곳에서나 보고 억지로라도 운동할수 있어서 너무 좋습니다. 감사히 잘 쓸께요.😂       5  \n",
       "4                                                       ᆞ       5  \n",
       "...                                                   ...     ...  \n",
       "264064  설치하고 로그인 하니 HTTP 500 Internal server error 가 뜨...       2  \n",
       "264065  위젯도 만들어주면 좋은데...... 제가 다른 걷기 위젯으로 사용 하는 앱이 있는데...       3  \n",
       "264066           이거 erc223 기반이라는데 토큰이 현매 이더리움위에 올라가져 있나요?       5  \n",
       "264067                                           좋은 만보기네요       5  \n",
       "264068                                     좋군요~디자인이 예쁘네요~       5  \n",
       "\n",
       "[264069 rows x 3 columns]"
      ]
     },
     "execution_count": 9,
     "metadata": {},
     "output_type": "execute_result"
    }
   ],
   "source": [
    "dataset"
   ]
  },
  {
   "cell_type": "markdown",
   "metadata": {},
   "source": [
    "## 전처리용 딕셔너리 Load"
   ]
  },
  {
   "cell_type": "markdown",
   "metadata": {},
   "source": [
    "### 불용어 사전 리스트\n",
    "- 사용자의 서비스 경험과는 무관하지만 빈출되는 단어인 불용어는 미리 제거하는 작업이 필요합니다."
   ]
  },
  {
   "cell_type": "code",
   "execution_count": 10,
   "metadata": {},
   "outputs": [
    {
     "data": {
      "text/html": [
       "<div>\n",
       "<style scoped>\n",
       "    .dataframe tbody tr th:only-of-type {\n",
       "        vertical-align: middle;\n",
       "    }\n",
       "\n",
       "    .dataframe tbody tr th {\n",
       "        vertical-align: top;\n",
       "    }\n",
       "\n",
       "    .dataframe thead th {\n",
       "        text-align: right;\n",
       "    }\n",
       "</style>\n",
       "<table border=\"1\" class=\"dataframe\">\n",
       "  <thead>\n",
       "    <tr style=\"text-align: right;\">\n",
       "      <th></th>\n",
       "      <th>stopword</th>\n",
       "    </tr>\n",
       "  </thead>\n",
       "  <tbody>\n",
       "    <tr>\n",
       "      <th>0</th>\n",
       "      <td>가까스로</td>\n",
       "    </tr>\n",
       "    <tr>\n",
       "      <th>1</th>\n",
       "      <td>가량</td>\n",
       "    </tr>\n",
       "    <tr>\n",
       "      <th>2</th>\n",
       "      <td>가령</td>\n",
       "    </tr>\n",
       "    <tr>\n",
       "      <th>3</th>\n",
       "      <td>가민</td>\n",
       "    </tr>\n",
       "    <tr>\n",
       "      <th>4</th>\n",
       "      <td>가민커넥트</td>\n",
       "    </tr>\n",
       "  </tbody>\n",
       "</table>\n",
       "</div>"
      ],
      "text/plain": [
       "  stopword\n",
       "0     가까스로\n",
       "1       가량\n",
       "2       가령\n",
       "3       가민\n",
       "4    가민커넥트"
      ]
     },
     "execution_count": 10,
     "metadata": {},
     "output_type": "execute_result"
    }
   ],
   "source": [
    "stopword_list = pd.read_excel('./data/stopword_list.xlsx')\n",
    "stopword_list.head()"
   ]
  },
  {
   "cell_type": "markdown",
   "metadata": {},
   "source": [
    "### 데이터 치환 리스트\n",
    "- 같은 의미로 사용된 여러 데이터를 특정 단어로 통일화하기 위한 데이터셋입니다.\n",
    "- 본 프로젝트에서는 특정 단어의 빈출여부가 핵심이기 때문에 같은 의미의 단어를 통일화하는 게 중요합니다."
   ]
  },
  {
   "cell_type": "code",
   "execution_count": 11,
   "metadata": {},
   "outputs": [
    {
     "data": {
      "text/html": [
       "<div>\n",
       "<style scoped>\n",
       "    .dataframe tbody tr th:only-of-type {\n",
       "        vertical-align: middle;\n",
       "    }\n",
       "\n",
       "    .dataframe tbody tr th {\n",
       "        vertical-align: top;\n",
       "    }\n",
       "\n",
       "    .dataframe thead th {\n",
       "        text-align: right;\n",
       "    }\n",
       "</style>\n",
       "<table border=\"1\" class=\"dataframe\">\n",
       "  <thead>\n",
       "    <tr style=\"text-align: right;\">\n",
       "      <th></th>\n",
       "      <th>before_replacement</th>\n",
       "      <th>after_replacement</th>\n",
       "    </tr>\n",
       "  </thead>\n",
       "  <tbody>\n",
       "    <tr>\n",
       "      <th>0</th>\n",
       "      <td>S헬스</td>\n",
       "      <td>삼성헬스</td>\n",
       "    </tr>\n",
       "    <tr>\n",
       "      <th>1</th>\n",
       "      <td>LG폰</td>\n",
       "      <td>스마트폰</td>\n",
       "    </tr>\n",
       "    <tr>\n",
       "      <th>2</th>\n",
       "      <td>LG V10</td>\n",
       "      <td>스마트폰</td>\n",
       "    </tr>\n",
       "    <tr>\n",
       "      <th>3</th>\n",
       "      <td>G7</td>\n",
       "      <td>스마트폰</td>\n",
       "    </tr>\n",
       "    <tr>\n",
       "      <th>4</th>\n",
       "      <td>GX</td>\n",
       "      <td>그룹운동</td>\n",
       "    </tr>\n",
       "  </tbody>\n",
       "</table>\n",
       "</div>"
      ],
      "text/plain": [
       "  before_replacement after_replacement\n",
       "0                S헬스              삼성헬스\n",
       "1                LG폰              스마트폰\n",
       "2             LG V10              스마트폰\n",
       "3                 G7              스마트폰\n",
       "4                 GX              그룹운동"
      ]
     },
     "execution_count": 11,
     "metadata": {},
     "output_type": "execute_result"
    }
   ],
   "source": [
    "replace_list = pd.read_excel('./data/replace_list.xlsx')\n",
    "replace_list.head()"
   ]
  },
  {
   "cell_type": "markdown",
   "metadata": {},
   "source": [
    "### 한 글자 키워드 리스트\n",
    "- 일반적으로 토큰이 1글자인 경우는 대부분 불용어에 해당하기 때문에 제거합니다.\n",
    "- 단, 프로젝트 성격에 따라 1글자의 단어가 핵심 키워드가 될 수 있습니다.\n",
    "- 아래의 리스트는 이처럼 키워드로 생각되는 1글자 단어를 리스트업 하였습니다."
   ]
  },
  {
   "cell_type": "code",
   "execution_count": 12,
   "metadata": {},
   "outputs": [
    {
     "data": {
      "text/html": [
       "<div>\n",
       "<style scoped>\n",
       "    .dataframe tbody tr th:only-of-type {\n",
       "        vertical-align: middle;\n",
       "    }\n",
       "\n",
       "    .dataframe tbody tr th {\n",
       "        vertical-align: top;\n",
       "    }\n",
       "\n",
       "    .dataframe thead th {\n",
       "        text-align: right;\n",
       "    }\n",
       "</style>\n",
       "<table border=\"1\" class=\"dataframe\">\n",
       "  <thead>\n",
       "    <tr style=\"text-align: right;\">\n",
       "      <th></th>\n",
       "      <th>one_char_keyword</th>\n",
       "    </tr>\n",
       "  </thead>\n",
       "  <tbody>\n",
       "    <tr>\n",
       "      <th>0</th>\n",
       "      <td>컵</td>\n",
       "    </tr>\n",
       "    <tr>\n",
       "      <th>1</th>\n",
       "      <td>방</td>\n",
       "    </tr>\n",
       "    <tr>\n",
       "      <th>2</th>\n",
       "      <td>물</td>\n",
       "    </tr>\n",
       "    <tr>\n",
       "      <th>3</th>\n",
       "      <td>돈</td>\n",
       "    </tr>\n",
       "    <tr>\n",
       "      <th>4</th>\n",
       "      <td>꿈</td>\n",
       "    </tr>\n",
       "  </tbody>\n",
       "</table>\n",
       "</div>"
      ],
      "text/plain": [
       "  one_char_keyword\n",
       "0                컵\n",
       "1                방\n",
       "2                물\n",
       "3                돈\n",
       "4                꿈"
      ]
     },
     "execution_count": 12,
     "metadata": {},
     "output_type": "execute_result"
    }
   ],
   "source": [
    "one_char_keyword = pd.read_excel('./data/one_char_list.xlsx')\n",
    "one_char_keyword.head()"
   ]
  },
  {
   "cell_type": "markdown",
   "metadata": {},
   "source": [
    "## 데이터 치환\n",
    "- 같은 의미의 단어를 하나의 단어로 통일하는 작업입니다.\n",
    "- LDA 토픽 모델링은 빈출 어휘를 중심으로 결과를 제공하기 때문에 단어를 통일할 필요가 있습니다."
   ]
  },
  {
   "cell_type": "code",
   "execution_count": 13,
   "metadata": {},
   "outputs": [],
   "source": [
    "def replace_word(review):\n",
    "    for i in range(len(replace_list['before_replacement'])):\n",
    "        try:\n",
    "            # 치환할 단어가 있는 경우에만 데이터 치환 수행\n",
    "            if replace_list['before_replacement'][i] in review:\n",
    "                review = review.replace(replace_list['before_replacement'][i], replace_list['after_replacement'][i])\n",
    "        except Exception as e:\n",
    "            print(f\"Error 발생 / 에러명: {e}\")\n",
    "    return review"
   ]
  },
  {
   "cell_type": "code",
   "execution_count": 14,
   "metadata": {},
   "outputs": [
    {
     "name": "stderr",
     "output_type": "stream",
     "text": [
      "100%|██████████████████████████████████| 264069/264069 [07:30<00:00, 586.41it/s]\n"
     ]
    },
    {
     "data": {
      "text/html": [
       "<div>\n",
       "<style scoped>\n",
       "    .dataframe tbody tr th:only-of-type {\n",
       "        vertical-align: middle;\n",
       "    }\n",
       "\n",
       "    .dataframe tbody tr th {\n",
       "        vertical-align: top;\n",
       "    }\n",
       "\n",
       "    .dataframe thead th {\n",
       "        text-align: right;\n",
       "    }\n",
       "</style>\n",
       "<table border=\"1\" class=\"dataframe\">\n",
       "  <thead>\n",
       "    <tr style=\"text-align: right;\">\n",
       "      <th></th>\n",
       "      <th>app</th>\n",
       "      <th>review</th>\n",
       "      <th>rating</th>\n",
       "      <th>review_prep</th>\n",
       "    </tr>\n",
       "  </thead>\n",
       "  <tbody>\n",
       "    <tr>\n",
       "      <th>0</th>\n",
       "      <td>다리 근육 운동 – 4주 프로그램</td>\n",
       "      <td>다른 P4P어플과 연동 하면 기존에 있던 스케쥴이 싹 사라짐</td>\n",
       "      <td>1</td>\n",
       "      <td>다른 P4P어플과 연동 하면 기존에 있던 스케줄이 싹 사라짐</td>\n",
       "    </tr>\n",
       "    <tr>\n",
       "      <th>1</th>\n",
       "      <td>다리 근육 운동 – 4주 프로그램</td>\n",
       "      <td>굿</td>\n",
       "      <td>5</td>\n",
       "      <td>굿</td>\n",
       "    </tr>\n",
       "    <tr>\n",
       "      <th>2</th>\n",
       "      <td>다리 근육 운동 – 4주 프로그램</td>\n",
       "      <td>최고입니디</td>\n",
       "      <td>5</td>\n",
       "      <td>최고입니디</td>\n",
       "    </tr>\n",
       "    <tr>\n",
       "      <th>3</th>\n",
       "      <td>다리 근육 운동 – 4주 프로그램</td>\n",
       "      <td>아무곳에서나 보고 억지로라도 운동할수 있어서 너무 좋습니다. 감사히 잘 쓸께요.😂</td>\n",
       "      <td>5</td>\n",
       "      <td>아무곳에서나 확인 억지로라도 운동할수 있어서 너무 좋습니다. 감사히 잘 쓸께요.😂</td>\n",
       "    </tr>\n",
       "    <tr>\n",
       "      <th>4</th>\n",
       "      <td>다리 근육 운동 – 4주 프로그램</td>\n",
       "      <td>ᆞ</td>\n",
       "      <td>5</td>\n",
       "      <td>ᆞ</td>\n",
       "    </tr>\n",
       "  </tbody>\n",
       "</table>\n",
       "</div>"
      ],
      "text/plain": [
       "                  app                                         review  rating  \\\n",
       "0  다리 근육 운동 – 4주 프로그램              다른 P4P어플과 연동 하면 기존에 있던 스케쥴이 싹 사라짐       1   \n",
       "1  다리 근육 운동 – 4주 프로그램                                              굿       5   \n",
       "2  다리 근육 운동 – 4주 프로그램                                          최고입니디       5   \n",
       "3  다리 근육 운동 – 4주 프로그램  아무곳에서나 보고 억지로라도 운동할수 있어서 너무 좋습니다. 감사히 잘 쓸께요.😂       5   \n",
       "4  다리 근육 운동 – 4주 프로그램                                              ᆞ       5   \n",
       "\n",
       "                                     review_prep  \n",
       "0              다른 P4P어플과 연동 하면 기존에 있던 스케줄이 싹 사라짐  \n",
       "1                                              굿  \n",
       "2                                          최고입니디  \n",
       "3  아무곳에서나 확인 억지로라도 운동할수 있어서 너무 좋습니다. 감사히 잘 쓸께요.😂  \n",
       "4                                              ᆞ  "
      ]
     },
     "execution_count": 14,
     "metadata": {},
     "output_type": "execute_result"
    }
   ],
   "source": [
    "dataset['review_prep'] = ''\n",
    "review_replaced_list = []\n",
    "for review in tqdm(dataset['review']):\n",
    "    review_replaced = replace_word(str(review)) # 문자열 데이터 변환\n",
    "    review_replaced_list.append(review_replaced)\n",
    "dataset['review_prep'] = review_replaced_list\n",
    "dataset.head()"
   ]
  },
  {
   "cell_type": "markdown",
   "metadata": {},
   "source": [
    "## 한국어 외 텍스트 제거\n",
    "- 숫자, 특수문자, 영문 등 서비스 경험과 관련된 의미를 추출해 내기 어려운 모든 문자열을 제거합니다."
   ]
  },
  {
   "cell_type": "code",
   "execution_count": 15,
   "metadata": {},
   "outputs": [],
   "source": [
    "review_removed = list(map(lambda review: re.sub('[^가-힣 ]', '', review), dataset['review_prep']))\n",
    "dataset['review_prep'] = review_removed"
   ]
  },
  {
   "cell_type": "markdown",
   "metadata": {},
   "source": [
    "## 평점 기준 데이터 분리"
   ]
  },
  {
   "cell_type": "code",
   "execution_count": 16,
   "metadata": {},
   "outputs": [],
   "source": [
    "# 긍정적 리뷰(평점 5점 만점 기준 4, 5점)\n",
    "review_pos = dataset[(4 == dataset['rating']) | (dataset['rating'] == 5)]['review_prep']\n",
    "# 부정적 리뷰(평점 5점 만점 기준 1, 2점)\n",
    "review_neg = dataset[(1 == dataset['rating']) | (dataset['rating'] == 2)]['review_prep']"
   ]
  },
  {
   "cell_type": "markdown",
   "metadata": {},
   "source": [
    "## 토큰화\n",
    "- KoNLPy에서 속도 및 토큰화 측면에서 성능이 가장 우수한 Mecab 형태소 분석기 활용\n",
    "- 명사가 문장 내 맥락을 파악하는 데 핵심 형태소이며 빈출 어휘를 쉽게 파악하기 위해 명사만 추출"
   ]
  },
  {
   "cell_type": "code",
   "execution_count": 17,
   "metadata": {},
   "outputs": [],
   "source": [
    "review_tokenized_pos = list(map(lambda review: mecab.nouns(review), review_pos))\n",
    "review_tokenized_neg = list(map(lambda review: mecab.nouns(review), review_neg))"
   ]
  },
  {
   "cell_type": "markdown",
   "metadata": {},
   "source": [
    "## 불용어 제거"
   ]
  },
  {
   "cell_type": "code",
   "execution_count": 18,
   "metadata": {},
   "outputs": [],
   "source": [
    "def remove_stopword(tokens):\n",
    "    review_removed_stopword = []\n",
    "    for token in tokens:\n",
    "        # 토큰의 글자 수가 2글자 이상인 경우\n",
    "        if 1 < len(token):\n",
    "            # 토큰이 불용어가 아닌 경우만 분석용 리뷰 데이터로 포함\n",
    "            if token not in list(stopword_list['stopword']):\n",
    "                review_removed_stopword.append(token)\n",
    "        # 토큰의 글자 수가 1글자인 경우\n",
    "        else:\n",
    "            # 1글자 키워드에 포함되는 경우만 분석용 리뷰 데이터로 포함\n",
    "            if token in list(one_char_keyword['one_char_keyword']):\n",
    "                review_removed_stopword.append(token)\n",
    "    return review_removed_stopword"
   ]
  },
  {
   "cell_type": "markdown",
   "metadata": {},
   "source": [
    "## 토큰 3 이상 15개 이하인 리뷰만 선별\n",
    "일반적으로, 리뷰의 길이가 길수록 사용자 경험이나 기술적 문제 등 사용자 의견이 많이 내포되어 있을 가능성이 높습니다. 하지만, 오히려 지나치게 길이가 긴 리뷰는 주제 파악이나 리뷰 내 단어 간의 조합을 활용하여 특징을 추출하는 데 어려움이 있을 수 있습니다. 따라서 본 프로젝트에서는 각 리뷰에서 추출된 명사의 개수가 3개 이상 15개 이하인 리뷰만을 분석에 활용하였습니다."
   ]
  },
  {
   "cell_type": "code",
   "execution_count": 40,
   "metadata": {},
   "outputs": [],
   "source": [
    "MIN_TOKEN_NUMBER = 3 # 최소 토큰 개수\n",
    "MAX_TOKEN_NUMBER = 15 # 최대 토큰 개수"
   ]
  },
  {
   "cell_type": "code",
   "execution_count": 36,
   "metadata": {},
   "outputs": [],
   "source": [
    "def select_review(review_removed_stopword):\n",
    "    review_prep = []\n",
    "    for tokens in review_removed_stopword:\n",
    "        if MIN_TOKEN_NUMBER <= len(tokens) <= MAX_TOKEN_NUMBER:\n",
    "            review_prep.append(tokens)\n",
    "    return review_prep"
   ]
  },
  {
   "cell_type": "code",
   "execution_count": 37,
   "metadata": {},
   "outputs": [],
   "source": [
    "review_removed_stopword_pos = list(map(lambda tokens : remove_stopword(tokens), review_tokenized_pos))\n",
    "review_removed_stopword_neg = list(map(lambda tokens : remove_stopword(tokens), review_tokenized_neg))"
   ]
  },
  {
   "cell_type": "code",
   "execution_count": 38,
   "metadata": {},
   "outputs": [],
   "source": [
    "review_prep_pos = select_review(review_removed_stopword_pos)\n",
    "review_prep_neg = select_review(review_removed_stopword_neg)"
   ]
  },
  {
   "cell_type": "markdown",
   "metadata": {},
   "source": [
    "## 평점별 리뷰 개수"
   ]
  },
  {
   "cell_type": "code",
   "execution_count": 39,
   "metadata": {},
   "outputs": [
    {
     "name": "stdout",
     "output_type": "stream",
     "text": [
      "분석한 리뷰 총 개수: 74773\n",
      "긍정적 리뷰: 63977개(85.56%)\n",
      "부정적 리뷰: 10796개(14.44%)\n"
     ]
    }
   ],
   "source": [
    "review_num_pos = len(review_prep_pos)\n",
    "review_num_neg = len(review_prep_neg)\n",
    "review_num_tot = review_num_pos + review_num_neg\n",
    "\n",
    "print(f\"분석한 리뷰 총 개수: {review_num_tot}\")\n",
    "print(f\"긍정적 리뷰: {review_num_pos}개({(review_num_pos/review_num_tot)*100:.2f}%)\")\n",
    "print(f\"부정적 리뷰: {review_num_neg}개({(review_num_neg/review_num_tot)*100:.2f}%)\")"
   ]
  },
  {
   "cell_type": "markdown",
   "metadata": {},
   "source": [
    "# LDA 토픽 모델링"
   ]
  },
  {
   "cell_type": "markdown",
   "metadata": {},
   "source": [
    "## 하이퍼파라미터 튜닝"
   ]
  },
  {
   "cell_type": "code",
   "execution_count": 41,
   "metadata": {},
   "outputs": [],
   "source": [
    "NUM_TOPICS = 10 # 토픽 개수는 하이퍼파라미터\n",
    "# passes: 딥러닝에서 Epoch와 같은 개념으로, 전체 corpus로 모델 학습 횟수 결정\n",
    "PASSES = 15 "
   ]
  },
  {
   "cell_type": "markdown",
   "metadata": {},
   "source": [
    "## 모델 학습"
   ]
  },
  {
   "cell_type": "code",
   "execution_count": 42,
   "metadata": {},
   "outputs": [],
   "source": [
    "def lda_modeling(review_prep):\n",
    "    # 단어 인코딩 및 빈도수 계산\n",
    "    dictionary = corpora.Dictionary(review_prep)\n",
    "    corpus = [dictionary.doc2bow(review) for review in review_prep]\n",
    "    # LDA 모델 학습\n",
    "    model = gensim.models.ldamodel.LdaModel(corpus, \n",
    "                                            num_topics = NUM_TOPICS, \n",
    "                                            id2word = dictionary, \n",
    "                                            passes = PASSES)\n",
    "    return model, corpus, dictionary"
   ]
  },
  {
   "cell_type": "markdown",
   "metadata": {},
   "source": [
    "## LDA 토픽 모델링 결과 시각화"
   ]
  },
  {
   "cell_type": "code",
   "execution_count": 43,
   "metadata": {
    "scrolled": true
   },
   "outputs": [],
   "source": [
    "def lda_visualize(model, corpus, dictionary, RATING):\n",
    "    pyLDAvis.enable_notebook()\n",
    "    result_visualized = pyLDAvis.gensim_models.prepare(model, corpus, dictionary)\n",
    "    pyLDAvis.display(result_visualized)\n",
    "    # 시각화 결과 저장\n",
    "    RESULT_FILE = './result/lda_result_' + RATING + '.html'\n",
    "    pyLDAvis.save_html(result_visualized, RESULT_FILE)"
   ]
  },
  {
   "cell_type": "markdown",
   "metadata": {},
   "source": [
    "## 긍정적 리뷰 토픽 모델링"
   ]
  },
  {
   "cell_type": "code",
   "execution_count": 44,
   "metadata": {},
   "outputs": [],
   "source": [
    "model, corpus, dictionary = lda_modeling(review_prep_pos)\n",
    "RATING = 'pos'\n",
    "lda_visualize(model, corpus, dictionary, RATING)"
   ]
  },
  {
   "cell_type": "markdown",
   "metadata": {},
   "source": [
    "## 부정적 리뷰 토픽 모델링"
   ]
  },
  {
   "cell_type": "code",
   "execution_count": 45,
   "metadata": {},
   "outputs": [
    {
     "name": "stderr",
     "output_type": "stream",
     "text": [
      "/Users/gbpark/.local/share/virtualenvs/mHealthapp-review-analysis1-rzGFRNeI/lib/python3.8/site-packages/past/builtins/misc.py:45: DeprecationWarning: the imp module is deprecated in favour of importlib; see the module's documentation for alternative uses\n",
      "  from imp import reload\n",
      "/Users/gbpark/.local/share/virtualenvs/mHealthapp-review-analysis1-rzGFRNeI/lib/python3.8/site-packages/past/builtins/misc.py:45: DeprecationWarning: the imp module is deprecated in favour of importlib; see the module's documentation for alternative uses\n",
      "  from imp import reload\n",
      "/Users/gbpark/.local/share/virtualenvs/mHealthapp-review-analysis1-rzGFRNeI/lib/python3.8/site-packages/past/builtins/misc.py:45: DeprecationWarning: the imp module is deprecated in favour of importlib; see the module's documentation for alternative uses\n",
      "  from imp import reload\n",
      "/Users/gbpark/.local/share/virtualenvs/mHealthapp-review-analysis1-rzGFRNeI/lib/python3.8/site-packages/past/builtins/misc.py:45: DeprecationWarning: the imp module is deprecated in favour of importlib; see the module's documentation for alternative uses\n",
      "  from imp import reload\n",
      "/Users/gbpark/.local/share/virtualenvs/mHealthapp-review-analysis1-rzGFRNeI/lib/python3.8/site-packages/past/builtins/misc.py:45: DeprecationWarning: the imp module is deprecated in favour of importlib; see the module's documentation for alternative uses\n",
      "  from imp import reload\n",
      "/Users/gbpark/.local/share/virtualenvs/mHealthapp-review-analysis1-rzGFRNeI/lib/python3.8/site-packages/past/builtins/misc.py:45: DeprecationWarning: the imp module is deprecated in favour of importlib; see the module's documentation for alternative uses\n",
      "  from imp import reload\n",
      "/Users/gbpark/.local/share/virtualenvs/mHealthapp-review-analysis1-rzGFRNeI/lib/python3.8/site-packages/past/builtins/misc.py:45: DeprecationWarning: the imp module is deprecated in favour of importlib; see the module's documentation for alternative uses\n",
      "  from imp import reload\n",
      "/Users/gbpark/.local/share/virtualenvs/mHealthapp-review-analysis1-rzGFRNeI/lib/python3.8/site-packages/past/builtins/misc.py:45: DeprecationWarning: the imp module is deprecated in favour of importlib; see the module's documentation for alternative uses\n",
      "  from imp import reload\n",
      "/Users/gbpark/.local/share/virtualenvs/mHealthapp-review-analysis1-rzGFRNeI/lib/python3.8/site-packages/past/builtins/misc.py:45: DeprecationWarning: the imp module is deprecated in favour of importlib; see the module's documentation for alternative uses\n",
      "  from imp import reload\n",
      "/Users/gbpark/.local/share/virtualenvs/mHealthapp-review-analysis1-rzGFRNeI/lib/python3.8/site-packages/past/builtins/misc.py:45: DeprecationWarning: the imp module is deprecated in favour of importlib; see the module's documentation for alternative uses\n",
      "  from imp import reload\n"
     ]
    }
   ],
   "source": [
    "model, corpus, dictionary = lda_modeling(review_prep_pos)\n",
    "RATING = 'neg'\n",
    "lda_visualize(model, corpus, dictionary, RATING)"
   ]
  }
 ],
 "metadata": {
  "kernelspec": {
   "display_name": "mhealthapp1",
   "language": "python",
   "name": "mhealthapp1"
  },
  "language_info": {
   "codemirror_mode": {
    "name": "ipython",
    "version": 3
   },
   "file_extension": ".py",
   "mimetype": "text/x-python",
   "name": "python",
   "nbconvert_exporter": "python",
   "pygments_lexer": "ipython3",
   "version": "3.8.1"
  }
 },
 "nbformat": 4,
 "nbformat_minor": 4
}
